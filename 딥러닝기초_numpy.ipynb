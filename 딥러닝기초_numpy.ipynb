{
 "cells": [
  {
   "cell_type": "code",
   "execution_count": 2,
   "id": "45c84ebd-b925-40b5-899f-a984cca76dbf",
   "metadata": {},
   "outputs": [
    {
     "data": {
      "text/plain": [
       "[0, 1, 2, 3, 4, 5, 6, 7, 8, 9]"
      ]
     },
     "execution_count": 2,
     "metadata": {},
     "output_type": "execute_result"
    }
   ],
   "source": [
    "L1=list(range(10))\n",
    "L1"
   ]
  },
  {
   "cell_type": "code",
   "execution_count": 4,
   "id": "98b4ddbe-06bc-4b14-b184-d1513cda8d41",
   "metadata": {},
   "outputs": [
    {
     "name": "stdout",
     "output_type": "stream",
     "text": [
      "<class 'list'>\n"
     ]
    }
   ],
   "source": [
    "L2=[True,\"2\",3.0,4]\n",
    "print(type(L2))"
   ]
  },
  {
   "cell_type": "code",
   "execution_count": 6,
   "id": "01ee5df3-f3cb-4236-871f-ca89fa6686b8",
   "metadata": {},
   "outputs": [
    {
     "data": {
      "text/plain": [
       "[bool, str, float, int]"
      ]
     },
     "execution_count": 6,
     "metadata": {},
     "output_type": "execute_result"
    }
   ],
   "source": [
    "[type(item)for item in L2]"
   ]
  },
  {
   "cell_type": "code",
   "execution_count": 8,
   "id": "a861aca3-01f8-4005-ac8e-0725eb29fa6c",
   "metadata": {},
   "outputs": [
    {
     "data": {
      "text/plain": [
       "[140718149471104, 140718150658104, 2378831763664, 140718150597144]"
      ]
     },
     "execution_count": 8,
     "metadata": {},
     "output_type": "execute_result"
    }
   ],
   "source": [
    "[id(item)for item in L2]"
   ]
  },
  {
   "cell_type": "code",
   "execution_count": 10,
   "id": "e2c2698b-e8fb-40b5-907a-dea603c0b973",
   "metadata": {},
   "outputs": [],
   "source": [
    "import array\n",
    "L=list(range(10))\n",
    "A=array.array('i',L)"
   ]
  },
  {
   "cell_type": "code",
   "execution_count": 12,
   "id": "abc0fd5e-1026-4ace-bf2e-da95bbd33128",
   "metadata": {},
   "outputs": [
    {
     "name": "stdout",
     "output_type": "stream",
     "text": [
      "array('i', [0, 1, 2, 3, 4, 5, 6, 7, 8, 9])\n"
     ]
    }
   ],
   "source": [
    "print(A)"
   ]
  },
  {
   "cell_type": "code",
   "execution_count": 14,
   "id": "3a661a07-2937-4a98-b0d3-bfb59eee13a2",
   "metadata": {},
   "outputs": [
    {
     "name": "stdout",
     "output_type": "stream",
     "text": [
      "i\n",
      "[0, 1, 2, 3, 4, 5, 6, 7, 8, 9]\n",
      "(2378625893216, 10)\n"
     ]
    }
   ],
   "source": [
    "print(A.typecode)\n",
    "print(A.tolist())\n",
    "print(A.buffer_info())"
   ]
  },
  {
   "cell_type": "code",
   "execution_count": 5,
   "id": "90b68910-5208-4c10-b5cc-7db8207006b2",
   "metadata": {},
   "outputs": [],
   "source": [
    "import numpy as np\n",
    "nda1=np.array([1,4,2,5,3])"
   ]
  },
  {
   "cell_type": "code",
   "execution_count": 7,
   "id": "838c8602-769c-4968-b737-2e780b337392",
   "metadata": {},
   "outputs": [
    {
     "name": "stdout",
     "output_type": "stream",
     "text": [
      "(5,)\n",
      "int32\n",
      "1\n",
      "(4,)\n"
     ]
    }
   ],
   "source": [
    "print(nda1.shape) # 배열 형태 \n",
    "print(nda1.dtype) # 배열 자료형\n",
    "print(nda1.ndim) # 배열 형태 \n",
    "print(nda1.strides) # 각요소의크기"
   ]
  },
  {
   "cell_type": "code",
   "execution_count": 9,
   "id": "76dfaa93-cba6-4f4c-b411-7b71e704660b",
   "metadata": {},
   "outputs": [
    {
     "data": {
      "text/plain": [
       "array([3.14, 4.  , 2.  , 3.  ])"
      ]
     },
     "execution_count": 9,
     "metadata": {},
     "output_type": "execute_result"
    }
   ],
   "source": [
    "nda2=np.array([3.14,4,2,3])  # 서로 다른 형 값 입력 시 정보 저장가능한 타입으로 변환\n",
    "nda2"
   ]
  },
  {
   "cell_type": "code",
   "execution_count": 11,
   "id": "d5b4e65d-ec3b-46ae-a0b6-b020d91949b3",
   "metadata": {},
   "outputs": [
    {
     "name": "stdout",
     "output_type": "stream",
     "text": [
      "float64\n"
     ]
    }
   ],
   "source": [
    "print(nda2.dtype)\n"
   ]
  },
  {
   "cell_type": "code",
   "execution_count": 13,
   "id": "a74cbc51-da58-4790-9923-f3c957781738",
   "metadata": {},
   "outputs": [
    {
     "data": {
      "text/plain": [
       "array([1., 2., 3., 4.], dtype=float32)"
      ]
     },
     "execution_count": 13,
     "metadata": {},
     "output_type": "execute_result"
    }
   ],
   "source": [
    "nda3=np.array([1,2,3,4],dtype='float32') # 자료형지정\n",
    "nda3"
   ]
  },
  {
   "cell_type": "code",
   "execution_count": 4,
   "id": "5a9150de-1906-4b21-bc5c-8af6d72210c7",
   "metadata": {},
   "outputs": [
    {
     "data": {
      "text/plain": [
       "1.0"
      ]
     },
     "execution_count": 4,
     "metadata": {},
     "output_type": "execute_result"
    }
   ],
   "source": [
    "# 스칼라데이터\n",
    "import numpy as np\n",
    "x=np.float32(1.0)\n",
    "x"
   ]
  },
  {
   "cell_type": "code",
   "execution_count": 6,
   "id": "e3a6d245-6be1-4436-b55e-de79aca58d29",
   "metadata": {},
   "outputs": [
    {
     "data": {
      "text/plain": [
       "array([1, 2, 3])"
      ]
     },
     "execution_count": 6,
     "metadata": {},
     "output_type": "execute_result"
    }
   ],
   "source": [
    "# 배열데이터 \n",
    "x=np.array([1,2,3])\n",
    "x"
   ]
  },
  {
   "cell_type": "code",
   "execution_count": 8,
   "id": "5c41cce9-5ba0-4f2b-b750-00e112dd2c40",
   "metadata": {},
   "outputs": [
    {
     "data": {
      "text/plain": [
       "(3,)"
      ]
     },
     "execution_count": 8,
     "metadata": {},
     "output_type": "execute_result"
    }
   ],
   "source": [
    "x.shape"
   ]
  },
  {
   "cell_type": "code",
   "execution_count": 10,
   "id": "9514fa22-64eb-4b98-9b45-f145e3bedeb7",
   "metadata": {},
   "outputs": [
    {
     "data": {
      "text/plain": [
       "1"
      ]
     },
     "execution_count": 10,
     "metadata": {},
     "output_type": "execute_result"
    }
   ],
   "source": [
    "x.ndim"
   ]
  },
  {
   "cell_type": "code",
   "execution_count": 12,
   "id": "0c5491cb-9f15-42b1-b06f-38aca96d6865",
   "metadata": {},
   "outputs": [
    {
     "data": {
      "text/plain": [
       "array([[1, 2],\n",
       "       [3, 4]])"
      ]
     },
     "execution_count": 12,
     "metadata": {},
     "output_type": "execute_result"
    }
   ],
   "source": [
    "# 2차원 배열\n",
    "y=np.array([[1,2],[3,4]])\n",
    "y"
   ]
  },
  {
   "cell_type": "code",
   "execution_count": 14,
   "id": "73db4f7a-40c8-4629-8806-266463426d28",
   "metadata": {},
   "outputs": [
    {
     "data": {
      "text/plain": [
       "(2, 2)"
      ]
     },
     "execution_count": 14,
     "metadata": {},
     "output_type": "execute_result"
    }
   ],
   "source": [
    "y.shape"
   ]
  },
  {
   "cell_type": "code",
   "execution_count": 16,
   "id": "0a8dea88-2302-4b2c-8190-a52741711f70",
   "metadata": {},
   "outputs": [
    {
     "data": {
      "text/plain": [
       "array([[1, 2, 3]])"
      ]
     },
     "execution_count": 16,
     "metadata": {},
     "output_type": "execute_result"
    }
   ],
   "source": [
    "z=np.array([1,2,3],ndmin=2) # ndmin: 최소 차원수\n",
    "z"
   ]
  },
  {
   "cell_type": "code",
   "execution_count": 18,
   "id": "4bf7a97d-738b-449a-ab0b-8c96e0abddd2",
   "metadata": {},
   "outputs": [
    {
     "data": {
      "text/plain": [
       "(1, 3)"
      ]
     },
     "execution_count": 18,
     "metadata": {},
     "output_type": "execute_result"
    }
   ],
   "source": [
    "z.shape"
   ]
  },
  {
   "cell_type": "code",
   "execution_count": 20,
   "id": "0c500464-b9f2-46f4-8b96-585bf5bcfe9e",
   "metadata": {},
   "outputs": [
    {
     "data": {
      "text/plain": [
       "array([[[1, 2, 3]]])"
      ]
     },
     "execution_count": 20,
     "metadata": {},
     "output_type": "execute_result"
    }
   ],
   "source": [
    "w=np.array([1,2,3],ndmin=3) # ndmin: 최소 차원수\n",
    "w"
   ]
  },
  {
   "cell_type": "code",
   "execution_count": 22,
   "id": "1cae2897-e520-4fc4-a97d-905da8359c59",
   "metadata": {},
   "outputs": [
    {
     "data": {
      "text/plain": [
       "(1, 1, 3)"
      ]
     },
     "execution_count": 22,
     "metadata": {},
     "output_type": "execute_result"
    }
   ],
   "source": [
    "w.shape"
   ]
  },
  {
   "cell_type": "code",
   "execution_count": 24,
   "id": "c11b2f4b-c5dc-4dc9-a290-88acff099de2",
   "metadata": {},
   "outputs": [
    {
     "data": {
      "text/plain": [
       "3"
      ]
     },
     "execution_count": 24,
     "metadata": {},
     "output_type": "execute_result"
    }
   ],
   "source": [
    "w.ndim"
   ]
  },
  {
   "cell_type": "code",
   "execution_count": 37,
   "id": "046deb6c-e83c-4599-abf6-8b9c14c5e0c0",
   "metadata": {},
   "outputs": [
    {
     "data": {
      "text/plain": [
       "array([1.+0.j, 2.+0.j, 3.+0.j])"
      ]
     },
     "execution_count": 37,
     "metadata": {},
     "output_type": "execute_result"
    }
   ],
   "source": [
    "np.array([1,2,3],dtype=complex)"
   ]
  },
  {
   "cell_type": "code",
   "execution_count": 39,
   "id": "00be5d1c-6f31-4da2-a8a3-9ba6df6fb7b9",
   "metadata": {},
   "outputs": [
    {
     "data": {
      "text/plain": [
       "array([0, 1, 2, 3, 4])"
      ]
     },
     "execution_count": 39,
     "metadata": {},
     "output_type": "execute_result"
    }
   ],
   "source": [
    "np.arange(5)"
   ]
  },
  {
   "cell_type": "code",
   "execution_count": 41,
   "id": "ab6a0bd5-9db2-4863-bdda-bc0ae240e0f8",
   "metadata": {},
   "outputs": [
    {
     "data": {
      "text/plain": [
       "array([0., 1., 2., 3., 4.])"
      ]
     },
     "execution_count": 41,
     "metadata": {},
     "output_type": "execute_result"
    }
   ],
   "source": [
    "np.arange(5.0)"
   ]
  },
  {
   "cell_type": "code",
   "execution_count": 43,
   "id": "9035e846-aa85-44fb-aa23-0c869c9e61df",
   "metadata": {},
   "outputs": [
    {
     "data": {
      "text/plain": [
       "array([3, 4, 5, 6])"
      ]
     },
     "execution_count": 43,
     "metadata": {},
     "output_type": "execute_result"
    }
   ],
   "source": [
    "np.arange(3,7)"
   ]
  },
  {
   "cell_type": "code",
   "execution_count": 45,
   "id": "3d25a879-b930-4e3c-8738-2b89ef9f80b0",
   "metadata": {},
   "outputs": [
    {
     "data": {
      "text/plain": [
       "array([3, 5, 7, 9])"
      ]
     },
     "execution_count": 45,
     "metadata": {},
     "output_type": "execute_result"
    }
   ],
   "source": [
    "np.arange(3,10,2) "
   ]
  },
  {
   "cell_type": "code",
   "execution_count": 47,
   "id": "716f92e2-597f-4a6c-8f98-bc245f67c7fe",
   "metadata": {},
   "outputs": [
    {
     "data": {
      "text/plain": [
       "array([3., 5., 7., 9.], dtype=float32)"
      ]
     },
     "execution_count": 47,
     "metadata": {},
     "output_type": "execute_result"
    }
   ],
   "source": [
    "np.arange(3,10,2,dtype=np.float32) # 자료형지정"
   ]
  },
  {
   "cell_type": "code",
   "execution_count": 49,
   "id": "a2cd6ad2-58c0-429e-8e18-e79d1fef8405",
   "metadata": {},
   "outputs": [
    {
     "data": {
      "text/plain": [
       "array([0., 0., 0., 0., 0.])"
      ]
     },
     "execution_count": 49,
     "metadata": {},
     "output_type": "execute_result"
    }
   ],
   "source": [
    "np.zeros(5)"
   ]
  },
  {
   "cell_type": "code",
   "execution_count": 51,
   "id": "72e2620f-f5c3-414f-9823-7c897718f3f0",
   "metadata": {},
   "outputs": [
    {
     "data": {
      "text/plain": [
       "array([[0, 0, 0],\n",
       "       [0, 0, 0]])"
      ]
     },
     "execution_count": 51,
     "metadata": {},
     "output_type": "execute_result"
    }
   ],
   "source": [
    "a=np.zeros((2,3),dtype=int) # 자료형 지정\n",
    "a"
   ]
  },
  {
   "cell_type": "code",
   "execution_count": 53,
   "id": "1abc0106-0672-479f-aeef-a1d91c8660b4",
   "metadata": {},
   "outputs": [
    {
     "data": {
      "text/plain": [
       "array([[0, 0, 0],\n",
       "       [0, 0, 0]])"
      ]
     },
     "execution_count": 53,
     "metadata": {},
     "output_type": "execute_result"
    }
   ],
   "source": [
    "b=np.zeros_like(a)\n",
    "b"
   ]
  },
  {
   "cell_type": "code",
   "execution_count": 55,
   "id": "edbbb0c0-a87c-4d50-b4d3-8e30bf843ed1",
   "metadata": {},
   "outputs": [
    {
     "data": {
      "text/plain": [
       "array([[1., 1.],\n",
       "       [1., 1.],\n",
       "       [1., 1.]])"
      ]
     },
     "execution_count": 55,
     "metadata": {},
     "output_type": "execute_result"
    }
   ],
   "source": [
    "c=np.ones((3,2))\n",
    "c"
   ]
  },
  {
   "cell_type": "code",
   "execution_count": 57,
   "id": "3910eb3e-33f0-413f-81a0-b1b6f41e5faa",
   "metadata": {},
   "outputs": [
    {
     "data": {
      "text/plain": [
       "array([[1, 1],\n",
       "       [1, 1],\n",
       "       [1, 1]])"
      ]
     },
     "execution_count": 57,
     "metadata": {},
     "output_type": "execute_result"
    }
   ],
   "source": [
    "d=np.ones_like(c,dtype=int)\n",
    "d"
   ]
  },
  {
   "cell_type": "code",
   "execution_count": 59,
   "id": "68b9f0bc-875e-46d6-b590-985adc8d3cee",
   "metadata": {},
   "outputs": [
    {
     "data": {
      "text/plain": [
       "array([[7, 7, 7],\n",
       "       [7, 7, 7]])"
      ]
     },
     "execution_count": 59,
     "metadata": {},
     "output_type": "execute_result"
    }
   ],
   "source": [
    "# 지정된 shape의 배열을 생성하고, 모든 요소를 지정한 값으로 초기화\n",
    "np.full((2,3),7)"
   ]
  },
  {
   "cell_type": "code",
   "execution_count": 61,
   "id": "e91b67c3-baf1-4ab6-910b-63202efaef3f",
   "metadata": {},
   "outputs": [
    {
     "data": {
      "text/plain": [
       "array([[1., 0., 0., 0.],\n",
       "       [0., 1., 0., 0.],\n",
       "       [0., 0., 1., 0.],\n",
       "       [0., 0., 0., 1.]])"
      ]
     },
     "execution_count": 61,
     "metadata": {},
     "output_type": "execute_result"
    }
   ],
   "source": [
    "# (N, N) shape의 단위 행렬(Unit Matrix)을 생성\n",
    "np.eye(4)"
   ]
  },
  {
   "cell_type": "code",
   "execution_count": 65,
   "id": "0b4a7a45-b154-48d0-b8f4-5c895706df53",
   "metadata": {},
   "outputs": [
    {
     "name": "stdout",
     "output_type": "stream",
     "text": [
      "[[0.000e+000 0.000e+000]\n",
      " [0.000e+000 0.000e+000]\n",
      " [0.000e+000 1.755e-320]\n",
      " [0.000e+000 0.000e+000]]\n"
     ]
    }
   ],
   "source": [
    "# 지정된 shape의 배열을 생성하되 요소의 초기화 과정에 없고, 기존 메모리값을 그대로 사용\n",
    "# 배열 생성비용이 가장 저렴하고 빠르나, 사용시 값 부여 필수\n",
    "a=np.empty((4,2))\n",
    "print(a)"
   ]
  },
  {
   "cell_type": "code",
   "execution_count": 71,
   "id": "ee35b0ee-32b9-4812-aaed-84647a7aee94",
   "metadata": {},
   "outputs": [
    {
     "data": {
      "text/plain": [
       "array([1. , 1.6, 2.2, 2.8, 3.4, 4. ])"
      ]
     },
     "execution_count": 71,
     "metadata": {},
     "output_type": "execute_result"
    }
   ],
   "source": [
    "np.linspace(1.,4.,6)"
   ]
  },
  {
   "cell_type": "code",
   "execution_count": 73,
   "id": "b4a5f1d4-846d-45c4-b0d5-d877bc801058",
   "metadata": {},
   "outputs": [
    {
     "data": {
      "text/plain": [
       "array([1. , 1.5, 2. , 2.5, 3. , 3.5])"
      ]
     },
     "execution_count": 73,
     "metadata": {},
     "output_type": "execute_result"
    }
   ],
   "source": [
    "np.linspace(1., 4., 6, endpoint=False) # 마지막 값 불포함"
   ]
  },
  {
   "cell_type": "code",
   "execution_count": 77,
   "id": "f2fd5c0e-4711-4609-a10a-e99ea93c7687",
   "metadata": {},
   "outputs": [
    {
     "data": {
      "text/plain": [
       "array([[0.44364209, 0.16978594, 0.08247283],\n",
       "       [0.41012494, 0.49479846, 0.90091686]])"
      ]
     },
     "execution_count": 77,
     "metadata": {},
     "output_type": "execute_result"
    }
   ],
   "source": [
    "# 랜덤 값 배열 생성\n",
    "np.random.rand(2,3) # 0~1 사이의 난수, 균일 분포"
   ]
  },
  {
   "cell_type": "code",
   "execution_count": 79,
   "id": "2696378d-f559-4860-a03c-f07460d55662",
   "metadata": {},
   "outputs": [
    {
     "data": {
      "text/plain": [
       "array([[ 1.10292745,  0.14929032,  0.22124904],\n",
       "       [-0.38993964, -0.12162857,  0.23138779]])"
      ]
     },
     "execution_count": 79,
     "metadata": {},
     "output_type": "execute_result"
    }
   ],
   "source": [
    "np.random.randn(2,3) # 정규 분포 난수"
   ]
  },
  {
   "cell_type": "code",
   "execution_count": 81,
   "id": "8cb66256-bf59-40fe-a4d8-516fcfc03e27",
   "metadata": {},
   "outputs": [
    {
     "data": {
      "text/plain": [
       "array([[7, 5, 7, 8],\n",
       "       [6, 8, 5, 8]])"
      ]
     },
     "execution_count": 81,
     "metadata": {},
     "output_type": "execute_result"
    }
   ],
   "source": [
    "np.random.randint(5, 10, size=(2, 4)) # (시작값, 종료값, shape), [시작값, 종료값)"
   ]
  },
  {
   "cell_type": "code",
   "execution_count": 107,
   "id": "bac8ad23-b61c-4722-98bf-d72ef9472887",
   "metadata": {},
   "outputs": [
    {
     "name": "stdout",
     "output_type": "stream",
     "text": [
      "(2, 3)\n",
      "float64\n",
      "2\n",
      "(24, 8)\n",
      "6\n",
      "[[ 0.71258477 -0.57650574  0.23283833]\n",
      " [ 0.41084374  1.12902591 -0.83814297]]\n",
      "[[0 0 0]\n",
      " [0 1 0]]\n"
     ]
    }
   ],
   "source": [
    "na=np.random.randn(2,3)\n",
    "print(na.shape)# 배열 형태\n",
    "print(na.dtype)\n",
    "print(na.ndim)\n",
    "print(na.strides) # 차원 별 요소 크기\n",
    "print(na.size)    # 배열 전체 요소수\n",
    "print(na) # 배열 요소 형 변환\n",
    "nb=na.astype(np.int32) #지정된 형으로 배열 요소 형 변환\n",
    "print(nb)"
   ]
  },
  {
   "cell_type": "code",
   "execution_count": 85,
   "id": "6e8fa2cd-7139-421c-a44c-2ec98a080e3d",
   "metadata": {},
   "outputs": [
    {
     "name": "stdout",
     "output_type": "stream",
     "text": [
      "(10,)\n"
     ]
    }
   ],
   "source": [
    "nb = np.arange(10)\n",
    "print(nb.shape) # 1차원 배열의 shape 유의"
   ]
  },
  {
   "cell_type": "code",
   "execution_count": 87,
   "id": "f621dd7a-d862-4ded-bfb6-b4383671f6a5",
   "metadata": {},
   "outputs": [
    {
     "data": {
      "text/plain": [
       "array([0., 0.])"
      ]
     },
     "execution_count": 87,
     "metadata": {},
     "output_type": "execute_result"
    }
   ],
   "source": [
    "np.zeros(2)"
   ]
  },
  {
   "cell_type": "code",
   "execution_count": 89,
   "id": "c6b76236-f0df-464d-8f6d-61bc564f45d8",
   "metadata": {},
   "outputs": [
    {
     "data": {
      "text/plain": [
       "array([0., 0.])"
      ]
     },
     "execution_count": 89,
     "metadata": {},
     "output_type": "execute_result"
    }
   ],
   "source": [
    "np.zeros((2,)) # np.zeros((2,)) == np.zeros(2,) == np.zeros(2)"
   ]
  },
  {
   "cell_type": "code",
   "execution_count": 91,
   "id": "0a64f544-bb97-4f5c-8a40-2d51cee2ceec",
   "metadata": {},
   "outputs": [
    {
     "data": {
      "text/plain": [
       "array([[0.],\n",
       "       [0.]])"
      ]
     },
     "execution_count": 91,
     "metadata": {},
     "output_type": "execute_result"
    }
   ],
   "source": [
    "np.zeros((2,1)) # 2행 1열의 2차원 배열"
   ]
  },
  {
   "cell_type": "code",
   "execution_count": 109,
   "id": "b2b65ad5-2e84-4b00-8493-00ccf28467e9",
   "metadata": {},
   "outputs": [
    {
     "name": "stdout",
     "output_type": "stream",
     "text": [
      "[1 2 3 4 5 6 7 8]\n",
      "[[1 2]\n",
      " [3 4]\n",
      " [5 6]\n",
      " [7 8]]\n"
     ]
    }
   ],
   "source": [
    "# 배열 shape 변환\n",
    "a=np.arange(1,9)\n",
    "print(a)\n",
    "b=a.reshape(4,2)\n",
    "print(b)"
   ]
  },
  {
   "cell_type": "code",
   "execution_count": 111,
   "id": "8b58ade5-9747-4ed0-a2e7-fa8febf7a8bb",
   "metadata": {},
   "outputs": [
    {
     "name": "stdout",
     "output_type": "stream",
     "text": [
      "[[1 3 5 7]\n",
      " [2 4 6 8]]\n",
      "(2, 4)\n"
     ]
    }
   ],
   "source": [
    "# transpose (전치행렬)\n",
    "\n",
    "c = b.T\n",
    "print(c)\n",
    "print(c.shape)"
   ]
  },
  {
   "cell_type": "code",
   "execution_count": 113,
   "id": "5c1979fd-26f0-4c8e-b9fd-8e25fb6d49a5",
   "metadata": {},
   "outputs": [
    {
     "data": {
      "text/plain": [
       "array([0, 1, 2, 3, 4, 5, 6, 7, 8, 9])"
      ]
     },
     "execution_count": 113,
     "metadata": {},
     "output_type": "execute_result"
    }
   ],
   "source": [
    "x=np.arange(10)\n",
    "x"
   ]
  },
  {
   "cell_type": "code",
   "execution_count": 115,
   "id": "a1e8dc62-e205-4c33-9fc5-bdb64b70a0cf",
   "metadata": {},
   "outputs": [
    {
     "name": "stdout",
     "output_type": "stream",
     "text": [
      "0\n",
      "2\n",
      "8\n",
      "8\n"
     ]
    }
   ],
   "source": [
    "print(x[0])  # 첫 요소: 0으로 시작\n",
    "print(x[2])\n",
    "print(x[8])\n",
    "print(x[-2]) # 끝에서 두 번째 요소"
   ]
  },
  {
   "cell_type": "code",
   "execution_count": 117,
   "id": "ba08698e-8674-4f22-be89-ef43889f30aa",
   "metadata": {},
   "outputs": [
    {
     "name": "stdout",
     "output_type": "stream",
     "text": [
      "[[0 1 2 3 4]\n",
      " [5 6 7 8 9]]\n"
     ]
    }
   ],
   "source": [
    "x.shape = (2,5) # shape을 변환하는 또다른 방법\n",
    "print(x)"
   ]
  },
  {
   "cell_type": "code",
   "execution_count": 119,
   "id": "5ce4734b-7bfc-4576-b7f8-c0ca2fc7d483",
   "metadata": {},
   "outputs": [
    {
     "name": "stdout",
     "output_type": "stream",
     "text": [
      "8\n",
      "4\n"
     ]
    }
   ],
   "source": [
    "print(x[1,3])\n",
    "print(x[0,-1])"
   ]
  },
  {
   "cell_type": "code",
   "execution_count": 121,
   "id": "27f63ca9-17aa-4b61-a3b8-98669081fc85",
   "metadata": {},
   "outputs": [
    {
     "name": "stdout",
     "output_type": "stream",
     "text": [
      "[[ 1  2  3  4  5  6]\n",
      " [ 7  8  9 10 11 12]\n",
      " [13 14 15 16 17 18]\n",
      " [19 20 21 22 23 24]]\n"
     ]
    }
   ],
   "source": [
    "a1=np.arange(1,25).reshape((4,6))\n",
    "print(a1)"
   ]
  },
  {
   "cell_type": "code",
   "execution_count": 123,
   "id": "2dd8c697-cce8-4f8f-adf4-1822e3ae9a1b",
   "metadata": {},
   "outputs": [
    {
     "name": "stdout",
     "output_type": "stream",
     "text": [
      "[[False  True False  True False  True]\n",
      " [False  True False  True False  True]\n",
      " [False  True False  True False  True]\n",
      " [False  True False  True False  True]]\n"
     ]
    }
   ],
   "source": [
    "even_arr = (a1%2==0)\n",
    "print(even_arr)"
   ]
  },
  {
   "cell_type": "code",
   "execution_count": 125,
   "id": "e520e185-5355-4c9f-8876-52d890709456",
   "metadata": {},
   "outputs": [
    {
     "name": "stdout",
     "output_type": "stream",
     "text": [
      "[ 2  4  6  8 10 12 14 16 18 20 22 24]\n",
      "[ 2  4  6  8 10 12 14 16 18 20 22 24]\n"
     ]
    }
   ],
   "source": [
    "print(a1[even_arr])\n",
    "print(a1[a1%2==0])"
   ]
  },
  {
   "cell_type": "code",
   "execution_count": 127,
   "id": "8e1ec256-9dc5-4547-b09d-d7ecbe3224be",
   "metadata": {},
   "outputs": [
    {
     "name": "stdout",
     "output_type": "stream",
     "text": [
      "[[ 1  2  3  4  5  6]\n",
      " [ 7  8  9 10 11 12]\n",
      " [13 14 15 16 17 18]\n",
      " [19 20 21 22 23 24]]\n"
     ]
    }
   ],
   "source": [
    "arr = np.arange(1, 25).reshape((4, 6))\n",
    "print(arr)"
   ]
  },
  {
   "cell_type": "code",
   "execution_count": 129,
   "id": "90b98fc4-e6d5-4e6c-a97d-6ab69b74d790",
   "metadata": {},
   "outputs": [
    {
     "data": {
      "text/plain": [
       "[1, 8, 15, 22]"
      ]
     },
     "execution_count": 129,
     "metadata": {},
     "output_type": "execute_result"
    }
   ],
   "source": [
    "[arr[0,0], arr[1, 1], arr[2, 2], arr[3, 3]]"
   ]
  },
  {
   "cell_type": "code",
   "execution_count": 131,
   "id": "8248fdd4-be7f-47db-854e-71e276ab9859",
   "metadata": {},
   "outputs": [
    {
     "data": {
      "text/plain": [
       "array([ 1,  8, 15, 22])"
      ]
     },
     "execution_count": 131,
     "metadata": {},
     "output_type": "execute_result"
    }
   ],
   "source": [
    "# 두 배열을 전달==> (0, 0), (1,1), (2,2), (3, 3)\n",
    "arr[[0, 1, 2, 3], [0, 1, 2, 3]]"
   ]
  },
  {
   "cell_type": "code",
   "execution_count": 133,
   "id": "e630439a-6666-48e4-b828-0c86a8a29250",
   "metadata": {},
   "outputs": [
    {
     "data": {
      "text/plain": [
       "array([[1, 2, 3],\n",
       "       [4, 5, 6],\n",
       "       [7, 8, 9]])"
      ]
     },
     "execution_count": 133,
     "metadata": {},
     "output_type": "execute_result"
    }
   ],
   "source": [
    "a=np.arange(1,10).reshape(3,3)\n",
    "a"
   ]
  },
  {
   "cell_type": "code",
   "execution_count": 137,
   "id": "d01efff9-4965-4d61-a7c2-a0a044644c2a",
   "metadata": {},
   "outputs": [
    {
     "data": {
      "text/plain": [
       "array([[9, 8, 7],\n",
       "       [6, 5, 4],\n",
       "       [3, 2, 1]])"
      ]
     },
     "execution_count": 137,
     "metadata": {},
     "output_type": "execute_result"
    }
   ],
   "source": [
    "b=np.arange(9,0,-1).reshape(3,3)\n",
    "b"
   ]
  },
  {
   "cell_type": "code",
   "execution_count": 139,
   "id": "dee0bc43-b16e-4df1-9187-e8d5cb138e1b",
   "metadata": {},
   "outputs": [
    {
     "data": {
      "text/plain": [
       "array([[-8, -6, -4],\n",
       "       [-2,  0,  2],\n",
       "       [ 4,  6,  8]])"
      ]
     },
     "execution_count": 139,
     "metadata": {},
     "output_type": "execute_result"
    }
   ],
   "source": [
    "a-b"
   ]
  },
  {
   "cell_type": "code",
   "execution_count": 141,
   "id": "22a05ae3-52ce-4eda-b99d-de7a1fc8f732",
   "metadata": {},
   "outputs": [
    {
     "data": {
      "text/plain": [
       "array([[-8, -6, -4],\n",
       "       [-2,  0,  2],\n",
       "       [ 4,  6,  8]])"
      ]
     },
     "execution_count": 141,
     "metadata": {},
     "output_type": "execute_result"
    }
   ],
   "source": [
    "np.subtract(a, b)"
   ]
  },
  {
   "cell_type": "code",
   "execution_count": 157,
   "id": "f0850db8-d720-4380-9e12-1fc1e86d77a8",
   "metadata": {},
   "outputs": [
    {
     "data": {
      "text/plain": [
       "array([[10, 10, 10],\n",
       "       [10, 10, 10],\n",
       "       [10, 10, 10]])"
      ]
     },
     "execution_count": 157,
     "metadata": {},
     "output_type": "execute_result"
    }
   ],
   "source": [
    "a+b"
   ]
  },
  {
   "cell_type": "code",
   "execution_count": 147,
   "id": "ef306a93-321b-4e96-850e-55e18a101af1",
   "metadata": {},
   "outputs": [
    {
     "data": {
      "text/plain": [
       "array([[10, 10, 10],\n",
       "       [10, 10, 10],\n",
       "       [10, 10, 10]])"
      ]
     },
     "execution_count": 147,
     "metadata": {},
     "output_type": "execute_result"
    }
   ],
   "source": [
    "np.add(a,b)"
   ]
  },
  {
   "cell_type": "code",
   "execution_count": 149,
   "id": "c867a052-66e8-43d4-b77a-d8f5ec003ab2",
   "metadata": {},
   "outputs": [
    {
     "data": {
      "text/plain": [
       "array([[0.11111111, 0.25      , 0.42857143],\n",
       "       [0.66666667, 1.        , 1.5       ],\n",
       "       [2.33333333, 4.        , 9.        ]])"
      ]
     },
     "execution_count": 149,
     "metadata": {},
     "output_type": "execute_result"
    }
   ],
   "source": [
    "np.divide(a,b)"
   ]
  },
  {
   "cell_type": "code",
   "execution_count": 151,
   "id": "82be67ed-32a0-4b89-88fb-8acce9575dff",
   "metadata": {},
   "outputs": [
    {
     "data": {
      "text/plain": [
       "array([[ 9, 16, 21],\n",
       "       [24, 25, 24],\n",
       "       [21, 16,  9]])"
      ]
     },
     "execution_count": 151,
     "metadata": {},
     "output_type": "execute_result"
    }
   ],
   "source": [
    "np.multiply(a,b)"
   ]
  },
  {
   "cell_type": "code",
   "execution_count": 155,
   "id": "f7a855d1-84b9-4558-81ad-5cd1983e348b",
   "metadata": {},
   "outputs": [
    {
     "data": {
      "text/plain": [
       "array([[ 30,  24,  18],\n",
       "       [ 84,  69,  54],\n",
       "       [138, 114,  90]])"
      ]
     },
     "execution_count": 155,
     "metadata": {},
     "output_type": "execute_result"
    }
   ],
   "source": [
    "np.dot(a,b) # 내적"
   ]
  },
  {
   "cell_type": "code",
   "execution_count": 161,
   "id": "805d305b-74c3-43fb-88a5-435b64548996",
   "metadata": {},
   "outputs": [
    {
     "data": {
      "text/plain": [
       "array([[ 30,  24,  18],\n",
       "       [ 84,  69,  54],\n",
       "       [138, 114,  90]])"
      ]
     },
     "execution_count": 161,
     "metadata": {},
     "output_type": "execute_result"
    }
   ],
   "source": [
    "a@b # 내적"
   ]
  },
  {
   "cell_type": "code",
   "execution_count": 163,
   "id": "dad1236d-83db-42e6-8eb2-9c10e4c9d7c1",
   "metadata": {},
   "outputs": [
    {
     "data": {
      "text/plain": [
       "array([[False, False, False],\n",
       "       [False,  True, False],\n",
       "       [False, False, False]])"
      ]
     },
     "execution_count": 163,
     "metadata": {},
     "output_type": "execute_result"
    }
   ],
   "source": [
    "a==b"
   ]
  },
  {
   "cell_type": "code",
   "execution_count": 165,
   "id": "926758d6-4cf1-4807-87ba-bba377d73886",
   "metadata": {},
   "outputs": [
    {
     "data": {
      "text/plain": [
       "array([[False, False, False],\n",
       "       [False, False,  True],\n",
       "       [ True,  True,  True]])"
      ]
     },
     "execution_count": 165,
     "metadata": {},
     "output_type": "execute_result"
    }
   ],
   "source": [
    "a>b"
   ]
  },
  {
   "cell_type": "code",
   "execution_count": 167,
   "id": "d3c6ead2-fdee-4fb5-ae77-de4cb2a47975",
   "metadata": {},
   "outputs": [
    {
     "data": {
      "text/plain": [
       "False"
      ]
     },
     "execution_count": 167,
     "metadata": {},
     "output_type": "execute_result"
    }
   ],
   "source": [
    "# 전체 배열 비교\n",
    "np.array_equal(a, b)"
   ]
  },
  {
   "cell_type": "code",
   "execution_count": 169,
   "id": "b6e2299a-e1c5-4ff8-b252-aa63fbf31df1",
   "metadata": {},
   "outputs": [
    {
     "name": "stdout",
     "output_type": "stream",
     "text": [
      "[[ 1  2  3  4  5  6]\n",
      " [ 7  8  9 10 11 12]\n",
      " [13 14 15 16 17 18]\n",
      " [19 20 21 22 23 24]]\n"
     ]
    }
   ],
   "source": [
    "# 배열과 스칼라 연산\n",
    "a = np.arange(1, 25).reshape(4, 6)\n",
    "print(a)"
   ]
  },
  {
   "cell_type": "code",
   "execution_count": 171,
   "id": "5a301578-0af4-4c1c-852e-63d8da3465dc",
   "metadata": {},
   "outputs": [
    {
     "name": "stdout",
     "output_type": "stream",
     "text": [
      "[[101 102 103 104 105 106]\n",
      " [107 108 109 110 111 112]\n",
      " [113 114 115 116 117 118]\n",
      " [119 120 121 122 123 124]]\n"
     ]
    }
   ],
   "source": [
    "print(a+100)"
   ]
  },
  {
   "cell_type": "code",
   "execution_count": 173,
   "id": "0b0063e0-bf1d-4d3c-8673-e26df06d32e2",
   "metadata": {},
   "outputs": [
    {
     "name": "stdout",
     "output_type": "stream",
     "text": [
      "[[0 1 2 3 4]]\n",
      "[[0]\n",
      " [1]\n",
      " [2]\n",
      " [3]\n",
      " [4]]\n"
     ]
    }
   ],
   "source": [
    "# 배열과 배열 연산\n",
    "a = np.arange(5).reshape((1, 5))\n",
    "b = np.arange(5).reshape((5, 1))\n",
    "print(a)\n",
    "print(b)"
   ]
  },
  {
   "cell_type": "code",
   "execution_count": 175,
   "id": "3f3abe64-f0a6-48ec-a89d-174c9e964b6f",
   "metadata": {},
   "outputs": [
    {
     "name": "stdout",
     "output_type": "stream",
     "text": [
      "[[0 1 2 3 4]\n",
      " [1 2 3 4 5]\n",
      " [2 3 4 5 6]\n",
      " [3 4 5 6 7]\n",
      " [4 5 6 7 8]]\n"
     ]
    }
   ],
   "source": [
    "print(a+b)"
   ]
  },
  {
   "cell_type": "code",
   "execution_count": 177,
   "id": "a8c41656-1a14-479a-a681-dcb17346cd42",
   "metadata": {},
   "outputs": [
    {
     "name": "stdout",
     "output_type": "stream",
     "text": [
      "[1 2 3]\n",
      "[1 2 3]\n"
     ]
    }
   ],
   "source": [
    "arr=np.array([1,2,3])\n",
    "print(arr)\n",
    "new=arr\n",
    "print(new)"
   ]
  },
  {
   "cell_type": "code",
   "execution_count": 179,
   "id": "6df826f4-83a1-41cf-895e-c29342e2ba8c",
   "metadata": {},
   "outputs": [
    {
     "name": "stdout",
     "output_type": "stream",
     "text": [
      "[3 2 3]\n"
     ]
    }
   ],
   "source": [
    "new[0]=3\n",
    "print(new)"
   ]
  },
  {
   "cell_type": "code",
   "execution_count": 181,
   "id": "d533920f-393c-44e1-876b-f1f713e2e2a1",
   "metadata": {},
   "outputs": [
    {
     "name": "stdout",
     "output_type": "stream",
     "text": [
      "[3 2 3]\n"
     ]
    }
   ],
   "source": [
    "print(arr)"
   ]
  },
  {
   "cell_type": "code",
   "execution_count": 183,
   "id": "b232a71f-0eae-4944-be6f-0fd235d1bda5",
   "metadata": {},
   "outputs": [
    {
     "data": {
      "text/plain": [
       "array([[0, 3, 8],\n",
       "       [7, 2, 8],\n",
       "       [8, 7, 2]])"
      ]
     },
     "execution_count": 183,
     "metadata": {},
     "output_type": "execute_result"
    }
   ],
   "source": [
    "a=np.random.randint(0,9,(3,3))\n",
    "a"
   ]
  },
  {
   "cell_type": "code",
   "execution_count": 185,
   "id": "c5eda026-8158-4c6d-a053-75e384a3f80b",
   "metadata": {},
   "outputs": [
    {
     "data": {
      "text/plain": [
       "array([[0, 3, 8],\n",
       "       [7, 2, 8],\n",
       "       [8, 7, 2]])"
      ]
     },
     "execution_count": 185,
     "metadata": {},
     "output_type": "execute_result"
    }
   ],
   "source": [
    "b=np.copy(a)\n",
    "b"
   ]
  },
  {
   "cell_type": "code",
   "execution_count": 187,
   "id": "3cd4a39c-6125-40c0-b645-2f7c67ec16bf",
   "metadata": {},
   "outputs": [
    {
     "data": {
      "text/plain": [
       "array([[0, 3, 8],\n",
       "       [7, 2, 8],\n",
       "       [8, 7, 2]])"
      ]
     },
     "execution_count": 187,
     "metadata": {},
     "output_type": "execute_result"
    }
   ],
   "source": [
    "a[0,0]=0\n",
    "a"
   ]
  },
  {
   "cell_type": "code",
   "execution_count": 189,
   "id": "fc562346-d175-482e-8efd-64b728f54c77",
   "metadata": {},
   "outputs": [
    {
     "data": {
      "text/plain": [
       "array([[0, 3, 8],\n",
       "       [7, 2, 8],\n",
       "       [8, 7, 2]])"
      ]
     },
     "execution_count": 189,
     "metadata": {},
     "output_type": "execute_result"
    }
   ],
   "source": [
    "b"
   ]
  },
  {
   "cell_type": "code",
   "execution_count": 193,
   "id": "1ca7dd8e-60de-4843-8c2f-604fba8f169d",
   "metadata": {},
   "outputs": [
    {
     "name": "stdout",
     "output_type": "stream",
     "text": [
      "[3 2 3]\n",
      "[3 2 3]\n"
     ]
    }
   ],
   "source": [
    "# view: 동일 데이터 공간을 새롭게 보기\n",
    "arr=np.array([1,2,3])\n",
    "new=arr.view()\n",
    "new[0]=3\n",
    "print(arr)\n",
    "print(new)"
   ]
  },
  {
   "cell_type": "code",
   "execution_count": 195,
   "id": "550b0e49-9083-49ca-969a-8c61143f482e",
   "metadata": {},
   "outputs": [
    {
     "name": "stdout",
     "output_type": "stream",
     "text": [
      "[1 2 3 4]\n",
      "(4,)\n",
      "[131073 262147]\n",
      "(2,)\n"
     ]
    }
   ],
   "source": [
    "arr=np.array([1,2,3,4],dtype='int16')\n",
    "new = arr.view('int32')\n",
    "print(arr)\n",
    "print(arr.shape)\n",
    "print(new)\n",
    "print(new.shape)"
   ]
  },
  {
   "cell_type": "code",
   "execution_count": 30,
   "id": "b97c0fbf-1f7a-4893-87c9-4f96c25b1866",
   "metadata": {},
   "outputs": [
    {
     "name": "stdout",
     "output_type": "stream",
     "text": [
      "[[1 2 3]\n",
      " [4 5 6]\n",
      " [7 8 9]]\n",
      "[[1 2]\n",
      " [3 4]\n",
      " [5 6]\n",
      " [7 8]]\n"
     ]
    }
   ],
   "source": [
    "a=np.arange(1,10).reshape(3,3)\n",
    "b=np.arange(1,9).reshape(4,2)\n",
    "print(a)\n",
    "print(b)"
   ]
  },
  {
   "cell_type": "code",
   "execution_count": 32,
   "id": "66c68d32-a108-41d3-879a-34f2485a4834",
   "metadata": {},
   "outputs": [
    {
     "data": {
      "text/plain": [
       "45"
      ]
     },
     "execution_count": 32,
     "metadata": {},
     "output_type": "execute_result"
    }
   ],
   "source": [
    "np.sum(a)"
   ]
  },
  {
   "cell_type": "code",
   "execution_count": 34,
   "id": "ee6f6a98-2937-48f3-bfe7-efb74009c892",
   "metadata": {},
   "outputs": [
    {
     "data": {
      "text/plain": [
       "45"
      ]
     },
     "execution_count": 34,
     "metadata": {},
     "output_type": "execute_result"
    }
   ],
   "source": [
    "a.sum()"
   ]
  },
  {
   "cell_type": "code",
   "execution_count": 36,
   "id": "6a9f9132-2f64-4282-841f-9d8c543fb22e",
   "metadata": {},
   "outputs": [
    {
     "data": {
      "text/plain": [
       "45"
      ]
     },
     "execution_count": 36,
     "metadata": {},
     "output_type": "execute_result"
    }
   ],
   "source": [
    "np.sum(a, axis=None)"
   ]
  },
  {
   "cell_type": "code",
   "execution_count": 38,
   "id": "8d7633e2-40a2-4c59-ba99-fff6f8a0ca17",
   "metadata": {},
   "outputs": [
    {
     "data": {
      "text/plain": [
       "36"
      ]
     },
     "execution_count": 38,
     "metadata": {},
     "output_type": "execute_result"
    }
   ],
   "source": [
    "np.sum(b, axis=None)"
   ]
  },
  {
   "cell_type": "code",
   "execution_count": 40,
   "id": "b1f34d03-64a1-4061-8b75-75cbc797ab09",
   "metadata": {},
   "outputs": [
    {
     "data": {
      "text/plain": [
       "array([12, 15, 18])"
      ]
     },
     "execution_count": 40,
     "metadata": {},
     "output_type": "execute_result"
    }
   ],
   "source": [
    "np.sum(a,axis=0)"
   ]
  },
  {
   "cell_type": "code",
   "execution_count": 42,
   "id": "b3c31bd9-7530-4813-86fa-c17a2fa00127",
   "metadata": {},
   "outputs": [
    {
     "data": {
      "text/plain": [
       "array([16, 20])"
      ]
     },
     "execution_count": 42,
     "metadata": {},
     "output_type": "execute_result"
    }
   ],
   "source": [
    "np.sum(b,axis=0)"
   ]
  },
  {
   "cell_type": "code",
   "execution_count": 44,
   "id": "cd5b7dd5-deb6-4250-b2a7-47d6b3b14143",
   "metadata": {},
   "outputs": [
    {
     "data": {
      "text/plain": [
       "array([ 6, 15, 24])"
      ]
     },
     "execution_count": 44,
     "metadata": {},
     "output_type": "execute_result"
    }
   ],
   "source": [
    "np.sum(a,axis=1)"
   ]
  },
  {
   "cell_type": "code",
   "execution_count": 46,
   "id": "71a17744-aad2-425b-bb99-80d1488ecd7b",
   "metadata": {},
   "outputs": [
    {
     "data": {
      "text/plain": [
       "array([ 3,  7, 11, 15])"
      ]
     },
     "execution_count": 46,
     "metadata": {},
     "output_type": "execute_result"
    }
   ],
   "source": [
    "np.sum(b,axis=1)"
   ]
  },
  {
   "cell_type": "code",
   "execution_count": 48,
   "id": "deb71813-ff1b-453f-b847-30986861d206",
   "metadata": {},
   "outputs": [
    {
     "data": {
      "text/plain": [
       "array([1, 4, 7])"
      ]
     },
     "execution_count": 48,
     "metadata": {},
     "output_type": "execute_result"
    }
   ],
   "source": [
    "# 최소값, 최대값\n",
    "np.min(a, axis=1) # == a.min(axis=0)"
   ]
  },
  {
   "cell_type": "code",
   "execution_count": 50,
   "id": "3c9e63bc-de49-4b36-bb7d-6dc96285eab6",
   "metadata": {},
   "outputs": [
    {
     "data": {
      "text/plain": [
       "array([7, 8, 9])"
      ]
     },
     "execution_count": 50,
     "metadata": {},
     "output_type": "execute_result"
    }
   ],
   "source": [
    "np.max(a, axis=0) # == a.max(axis=1)"
   ]
  },
  {
   "cell_type": "code",
   "execution_count": 52,
   "id": "9bfb1210-0082-4ed6-818a-f99fcff46c3d",
   "metadata": {},
   "outputs": [
    {
     "name": "stdout",
     "output_type": "stream",
     "text": [
      "[[1 2]\n",
      " [3 4]\n",
      " [5 6]\n",
      " [7 8]]\n"
     ]
    }
   ],
   "source": [
    "# 최소인덱스, 최대인덱스\n",
    "print(b)"
   ]
  },
  {
   "cell_type": "code",
   "execution_count": 54,
   "id": "787f2604-c72a-4e45-bc8a-551c25c3af4b",
   "metadata": {},
   "outputs": [
    {
     "data": {
      "text/plain": [
       "array([0, 0, 0, 0], dtype=int64)"
      ]
     },
     "execution_count": 54,
     "metadata": {},
     "output_type": "execute_result"
    }
   ],
   "source": [
    "np.argmin(b, axis=1)"
   ]
  },
  {
   "cell_type": "code",
   "execution_count": 56,
   "id": "38648d77-845b-4f2c-a56a-d880792a41a4",
   "metadata": {},
   "outputs": [
    {
     "data": {
      "text/plain": [
       "array([3, 3], dtype=int64)"
      ]
     },
     "execution_count": 56,
     "metadata": {},
     "output_type": "execute_result"
    }
   ],
   "source": [
    "np.argmax(b, axis=0)"
   ]
  },
  {
   "cell_type": "code",
   "execution_count": 58,
   "id": "20266194-9f10-492a-9124-55eab7c5bc47",
   "metadata": {},
   "outputs": [
    {
     "data": {
      "text/plain": [
       "array([4., 5., 6.])"
      ]
     },
     "execution_count": 58,
     "metadata": {},
     "output_type": "execute_result"
    }
   ],
   "source": [
    "# 평균, 중앙값, 표준편차\n",
    "np.mean(a,axis=0)"
   ]
  },
  {
   "cell_type": "code",
   "execution_count": 60,
   "id": "51f4406b-84dd-42c8-9edb-c3bf4c369121",
   "metadata": {},
   "outputs": [
    {
     "data": {
      "text/plain": [
       "array([2., 5., 8.])"
      ]
     },
     "execution_count": 60,
     "metadata": {},
     "output_type": "execute_result"
    }
   ],
   "source": [
    "np.mean(a, axis=1) # == a.mean(axis=0)"
   ]
  },
  {
   "cell_type": "code",
   "execution_count": 62,
   "id": "db71ca17-f176-462e-a5d2-c66d54dd1934",
   "metadata": {},
   "outputs": [
    {
     "name": "stdout",
     "output_type": "stream",
     "text": [
      "[[1 2 3]\n",
      " [4 5 6]\n",
      " [7 8 9]]\n",
      "[4. 5. 6.]\n",
      "[2. 5. 8.]\n"
     ]
    }
   ],
   "source": [
    "print(a)\n",
    "print(np.median(a, axis=0))\n",
    "print(np.median(a, axis=1))"
   ]
  },
  {
   "cell_type": "code",
   "execution_count": 64,
   "id": "c19735d0-b016-4a5e-9e06-b1658eb3356e",
   "metadata": {},
   "outputs": [
    {
     "name": "stdout",
     "output_type": "stream",
     "text": [
      "[[1 2 3]\n",
      " [4 5 6]\n",
      " [7 8 9]]\n",
      "[2.44948974 2.44948974 2.44948974]\n",
      "[0.81649658 0.81649658 0.81649658]\n"
     ]
    }
   ],
   "source": [
    "print(a)\n",
    "print(np.std(a, axis=0))\n",
    "print(np.std(a, axis=1))"
   ]
  },
  {
   "cell_type": "code",
   "execution_count": 66,
   "id": "6df56247-b6bf-42e0-af7d-56a599baf3ee",
   "metadata": {},
   "outputs": [
    {
     "data": {
      "text/plain": [
       "array([[0.05104736, 0.54823077, 0.52361764],\n",
       "       [0.39551899, 0.54636416, 0.01400512],\n",
       "       [0.63525123, 0.60314774, 0.2888475 ]])"
      ]
     },
     "execution_count": 66,
     "metadata": {},
     "output_type": "execute_result"
    }
   ],
   "source": [
    "unsorted_arr=np.random.rand(3,3)\n",
    "unsorted_arr"
   ]
  },
  {
   "cell_type": "code",
   "execution_count": 68,
   "id": "02507a71-4371-47be-94a5-7deb751107f4",
   "metadata": {},
   "outputs": [],
   "source": [
    "unsorted_arr1 = unsorted_arr.copy()\n",
    "unsorted_arr2 = unsorted_arr.copy()\n",
    "unsorted_arr3 = unsorted_arr.copy()\n",
    "unsorted_arr4 = unsorted_arr.copy()"
   ]
  },
  {
   "cell_type": "code",
   "execution_count": 70,
   "id": "81c423eb-8ad7-48bc-a9ef-f1f98a0944b5",
   "metadata": {},
   "outputs": [
    {
     "name": "stdout",
     "output_type": "stream",
     "text": [
      "[[0.05104736 0.52361764 0.54823077]\n",
      " [0.01400512 0.39551899 0.54636416]\n",
      " [0.2888475  0.60314774 0.63525123]]\n"
     ]
    }
   ],
   "source": [
    "unsorted_arr1.sort() # 기본: axis=-1 (axis=None은 허용안됨) \n",
    "print(unsorted_arr1)"
   ]
  },
  {
   "cell_type": "code",
   "execution_count": 72,
   "id": "72581afe-2c92-4a05-9132-e43efa8652a0",
   "metadata": {},
   "outputs": [
    {
     "name": "stdout",
     "output_type": "stream",
     "text": [
      "[[0.05104736 0.52361764 0.54823077]\n",
      " [0.01400512 0.39551899 0.54636416]\n",
      " [0.2888475  0.60314774 0.63525123]]\n"
     ]
    }
   ],
   "source": [
    "unsorted_arr2.sort(axis=-1) # axis=-1 마지막 axis -> 1과 동일\n",
    "print(unsorted_arr2)"
   ]
  },
  {
   "cell_type": "code",
   "execution_count": 74,
   "id": "dc2a5a25-7f52-4c4a-a3e2-ad730d9cf13d",
   "metadata": {},
   "outputs": [
    {
     "name": "stdout",
     "output_type": "stream",
     "text": [
      "[[0.05104736 0.54636416 0.01400512]\n",
      " [0.39551899 0.54823077 0.2888475 ]\n",
      " [0.63525123 0.60314774 0.52361764]]\n"
     ]
    }
   ],
   "source": [
    "unsorted_arr3.sort(axis=0)\n",
    "print(unsorted_arr3)"
   ]
  },
  {
   "cell_type": "code",
   "execution_count": 76,
   "id": "7e521801-ed14-4faa-8621-eeae6b6dbb82",
   "metadata": {},
   "outputs": [
    {
     "name": "stdout",
     "output_type": "stream",
     "text": [
      "[[0.05104736 0.52361764 0.54823077]\n",
      " [0.01400512 0.39551899 0.54636416]\n",
      " [0.2888475  0.60314774 0.63525123]]\n"
     ]
    }
   ],
   "source": [
    "unsorted_arr4.sort(axis=1) \n",
    "print(unsorted_arr4)"
   ]
  },
  {
   "cell_type": "code",
   "execution_count": 78,
   "id": "0526d606-fe57-41e8-afa6-fce724842ae9",
   "metadata": {},
   "outputs": [
    {
     "name": "stdout",
     "output_type": "stream",
     "text": [
      "[[ 1  2  3  4  5  6]\n",
      " [ 7  8  9 10 11 12]\n",
      " [13 14 15 16 17 18]\n",
      " [19 20 21 22 23 24]]\n"
     ]
    }
   ],
   "source": [
    "a1 = np.arange(1, 25).reshape((4, 6)) #2차원 배열\n",
    "print(a1)"
   ]
  },
  {
   "cell_type": "code",
   "execution_count": 80,
   "id": "7c0e6be5-a71b-4b4f-a9e5-6267328fb090",
   "metadata": {},
   "outputs": [
    {
     "data": {
      "text/plain": [
       "array([[ 8,  9, 10, 11],\n",
       "       [14, 15, 16, 17]])"
      ]
     },
     "execution_count": 80,
     "metadata": {},
     "output_type": "execute_result"
    }
   ],
   "source": [
    "a1[1:3, 1:5] # 1~2행, 1~4열"
   ]
  },
  {
   "cell_type": "code",
   "execution_count": 82,
   "id": "487b5b55-ec72-45f5-9f56-275216d8d937",
   "metadata": {},
   "outputs": [
    {
     "data": {
      "text/plain": [
       "array([[ 8,  9, 10, 11],\n",
       "       [14, 15, 16, 17]])"
      ]
     },
     "execution_count": 82,
     "metadata": {},
     "output_type": "execute_result"
    }
   ],
   "source": [
    "a1[1:-1, 1:-1] # 1~2행(마지막 행 직전), 1~4열(마지막 열 직전)"
   ]
  },
  {
   "cell_type": "code",
   "execution_count": 84,
   "id": "477d7b0e-84e7-44a2-ab0c-f2faa1fec8a5",
   "metadata": {},
   "outputs": [
    {
     "data": {
      "text/plain": [
       "array([[ 7,  8,  9, 10, 11],\n",
       "       [13, 14, 15, 16, 17],\n",
       "       [19, 20, 21, 22, 23]])"
      ]
     },
     "execution_count": 84,
     "metadata": {},
     "output_type": "execute_result"
    }
   ],
   "source": [
    "a1[1:, :-1]"
   ]
  },
  {
   "cell_type": "code",
   "execution_count": 86,
   "id": "0a2425b3-b73e-441c-a786-63c3d50e94a8",
   "metadata": {},
   "outputs": [
    {
     "data": {
      "text/plain": [
       "array([[ 7,  8,  9, 10, 11, 12],\n",
       "       [13, 14, 15, 16, 17, 18]])"
      ]
     },
     "execution_count": 86,
     "metadata": {},
     "output_type": "execute_result"
    }
   ],
   "source": [
    "a1[1:3, :]"
   ]
  },
  {
   "cell_type": "code",
   "execution_count": 88,
   "id": "12f1556e-c5e4-42d2-a42a-1cf7453c9bb3",
   "metadata": {},
   "outputs": [
    {
     "data": {
      "text/plain": [
       "array([[ 2,  3],\n",
       "       [ 8,  9],\n",
       "       [14, 15],\n",
       "       [20, 21]])"
      ]
     },
     "execution_count": 88,
     "metadata": {},
     "output_type": "execute_result"
    }
   ],
   "source": [
    "# 전체 행에 대해서, 1, 2번 컬럼 참조\n",
    "a1[:, [1, 2]]"
   ]
  },
  {
   "cell_type": "code",
   "execution_count": 90,
   "id": "feb52080-218e-410a-93c4-637a79779197",
   "metadata": {},
   "outputs": [
    {
     "name": "stdout",
     "output_type": "stream",
     "text": [
      "[[ 0  1  2  3  4]\n",
      " [ 5  6  7  8  9]\n",
      " [10 11 12 13 14]]\n"
     ]
    }
   ],
   "source": [
    "a1 = np.arange(15).reshape(3, 5) #2차원 배열\n",
    "print(a1)"
   ]
  },
  {
   "cell_type": "code",
   "execution_count": 92,
   "id": "fbb2f5e0-414c-401e-b1a2-b8b81ee17f53",
   "metadata": {},
   "outputs": [
    {
     "data": {
      "text/plain": [
       "array([[ 0,  2,  4],\n",
       "       [ 5,  7,  9],\n",
       "       [10, 12, 14]])"
      ]
     },
     "execution_count": 92,
     "metadata": {},
     "output_type": "execute_result"
    }
   ],
   "source": [
    "a1[:, ::2] # 열을 두 칸씩 띄워서 슬라이싱"
   ]
  },
  {
   "cell_type": "code",
   "execution_count": 94,
   "id": "c66755a4-b48a-4e94-9410-036d9dab1726",
   "metadata": {},
   "outputs": [
    {
     "data": {
      "text/plain": [
       "array([[ 0,  3],\n",
       "       [10, 13]])"
      ]
     },
     "execution_count": 94,
     "metadata": {},
     "output_type": "execute_result"
    }
   ],
   "source": [
    "a1[::2, ::3] # 행은 두 칸씩, 열은 세 칸씩 띄워서 슬라이싱"
   ]
  },
  {
   "cell_type": "code",
   "execution_count": 96,
   "id": "46a38d2f-0e9a-40b6-bfd5-667a716a06fc",
   "metadata": {},
   "outputs": [
    {
     "name": "stdout",
     "output_type": "stream",
     "text": [
      "[[ 0  1  2  3  4]\n",
      " [ 5  6  7  8  9]\n",
      " [10 11 12 13 14]]\n"
     ]
    }
   ],
   "source": [
    "print(a1)"
   ]
  },
  {
   "cell_type": "code",
   "execution_count": 98,
   "id": "3ae2da50-b258-4e21-adc9-62c56e87c08f",
   "metadata": {},
   "outputs": [
    {
     "name": "stdout",
     "output_type": "stream",
     "text": [
      "[[ 6  7  8  9]\n",
      " [11 12 13 14]]\n"
     ]
    }
   ],
   "source": [
    "slide_arr = a1[1:3, 1:5]\n",
    "print(slide_arr)"
   ]
  },
  {
   "cell_type": "code",
   "execution_count": 100,
   "id": "1b34e8b6-0bad-4001-b5a4-b9f26726ce3f",
   "metadata": {},
   "outputs": [
    {
     "name": "stdout",
     "output_type": "stream",
     "text": [
      "[[    6 99999 99999     9]\n",
      " [   11 99999 99999    14]]\n"
     ]
    }
   ],
   "source": [
    "slide_arr[:, 1:3]=99999\n",
    "print(slide_arr)"
   ]
  },
  {
   "cell_type": "code",
   "execution_count": 102,
   "id": "3b7ec483-735b-42a4-8033-7bf11a2fe59b",
   "metadata": {},
   "outputs": [
    {
     "name": "stdout",
     "output_type": "stream",
     "text": [
      "[[    0     1     2     3     4]\n",
      " [    5     6 99999 99999     9]\n",
      " [   10    11 99999 99999    14]]\n"
     ]
    }
   ],
   "source": [
    "print(a1)"
   ]
  },
  {
   "cell_type": "code",
   "execution_count": 106,
   "id": "1285c6d4-947b-4bed-af27-33e8b894d6be",
   "metadata": {},
   "outputs": [
    {
     "name": "stdout",
     "output_type": "stream",
     "text": [
      "[1 2 3 4]\n",
      "(4,)\n"
     ]
    }
   ],
   "source": [
    "arr = np.array([1, 2, 3, 4])\n",
    "\n",
    "print(arr)\n",
    "print(arr.shape)"
   ]
  },
  {
   "cell_type": "code",
   "execution_count": 108,
   "id": "8814d9c3-820f-40e9-ac2a-27ae35b9028d",
   "metadata": {},
   "outputs": [
    {
     "name": "stdout",
     "output_type": "stream",
     "text": [
      "[[1 2 3 4]]\n",
      "(1, 4)\n"
     ]
    }
   ],
   "source": [
    "arr2 = arr[np.newaxis] # 첫번째 차원에 새 차원 생성\n",
    "print(arr2)\n",
    "print(arr2.shape)"
   ]
  },
  {
   "cell_type": "code",
   "execution_count": 110,
   "id": "65ea8cc5-5b95-4afa-8fd5-01399881d7bb",
   "metadata": {},
   "outputs": [
    {
     "name": "stdout",
     "output_type": "stream",
     "text": [
      "[[1]\n",
      " [2]\n",
      " [3]]\n",
      "(3, 1)\n"
     ]
    }
   ],
   "source": [
    "arr = np.array([[1], [2], [3]])\n",
    "print(arr)\n",
    "print(arr.shape)"
   ]
  },
  {
   "cell_type": "code",
   "execution_count": 112,
   "id": "be0046c1-84d4-4aaf-865b-a128ae2f0c4d",
   "metadata": {},
   "outputs": [
    {
     "name": "stdout",
     "output_type": "stream",
     "text": [
      "[[[1]\n",
      "  [2]\n",
      "  [3]]]\n",
      "(1, 3, 1)\n"
     ]
    }
   ],
   "source": [
    "expansion = np.expand_dims(arr, axis=0) # 첫 번째 위치에 차원 추가\n",
    "print(expansion)\n",
    "print(expansion.shape)"
   ]
  },
  {
   "cell_type": "code",
   "execution_count": 114,
   "id": "d488db23-a2ec-47d4-8d83-6ecfe388dd0b",
   "metadata": {},
   "outputs": [
    {
     "name": "stdout",
     "output_type": "stream",
     "text": [
      "[1 2 3]\n",
      "(3,)\n"
     ]
    }
   ],
   "source": [
    "reduction = np.squeeze(arr, axis=1) # 두 번째 위치의 차원 축소\n",
    "print(reduction)\n",
    "print(reduction.shape)"
   ]
  },
  {
   "cell_type": "code",
   "execution_count": 116,
   "id": "4e2e4fe7-4e68-40e9-bf0a-9fd19e4b39d1",
   "metadata": {},
   "outputs": [
    {
     "name": "stdout",
     "output_type": "stream",
     "text": [
      "[1 2 3]\n",
      "(3,)\n"
     ]
    }
   ],
   "source": [
    "reduction2 = np.squeeze(expansion) # 차원 축소가 가능한 전체 차원 대상\n",
    "print(reduction2)\n",
    "print(reduction2.shape)"
   ]
  },
  {
   "cell_type": "code",
   "execution_count": 118,
   "id": "954e48cf-fbe3-46da-b86f-7146b99e52a3",
   "metadata": {},
   "outputs": [
    {
     "name": "stdout",
     "output_type": "stream",
     "text": [
      "[[1 2 3]\n",
      " [4 5 6]]\n",
      "[[ 7  8  9]\n",
      " [10 11 12]]\n"
     ]
    }
   ],
   "source": [
    "a = np.arange(1, 7).reshape(2, 3)\n",
    "b = np.arange(7, 13).reshape(2, 3)\n",
    "print(a)\n",
    "print(b)"
   ]
  },
  {
   "cell_type": "code",
   "execution_count": 120,
   "id": "8a5e9638-b73c-4ba3-ad72-ed0fa62baed6",
   "metadata": {},
   "outputs": [
    {
     "name": "stdout",
     "output_type": "stream",
     "text": [
      "[[ 1  2  3]\n",
      " [ 4  5  6]\n",
      " [ 7  8  9]\n",
      " [10 11 12]]\n",
      "(4, 3)\n"
     ]
    }
   ],
   "source": [
    "result = np.concatenate((a, b)) # 결합 기본 차원은 axis=0 -> 행이 늘어남\n",
    "print(result)\n",
    "print(result.shape)"
   ]
  },
  {
   "cell_type": "code",
   "execution_count": 122,
   "id": "ac78ac7a-8a89-49c6-8b1b-2ebc4d1f1e69",
   "metadata": {},
   "outputs": [
    {
     "name": "stdout",
     "output_type": "stream",
     "text": [
      "[[ 1  2  3  7  8  9]\n",
      " [ 4  5  6 10 11 12]]\n",
      "(2, 6)\n"
     ]
    }
   ],
   "source": [
    "result2 = np.concatenate((a, b), axis=1) # 열 기준 결합\n",
    "print(result2)\n",
    "print(result2.shape)"
   ]
  },
  {
   "cell_type": "code",
   "execution_count": 124,
   "id": "9626c3c0-51f5-4a5e-a0b4-801921b51c79",
   "metadata": {},
   "outputs": [
    {
     "name": "stdout",
     "output_type": "stream",
     "text": [
      "[[ 1  2  3]\n",
      " [ 4  5  6]\n",
      " [ 7  8  9]\n",
      " [10 11 12]]\n",
      "(4, 3)\n"
     ]
    }
   ],
   "source": [
    "result3 = np.vstack((a, b))\n",
    "print(result3)\n",
    "print(result3.shape)"
   ]
  },
  {
   "cell_type": "code",
   "execution_count": 126,
   "id": "308f5675-6f06-43a6-9ea9-074052142589",
   "metadata": {},
   "outputs": [
    {
     "name": "stdout",
     "output_type": "stream",
     "text": [
      "[[ 1  2  3  7  8  9]\n",
      " [ 4  5  6 10 11 12]]\n",
      "(2, 6)\n"
     ]
    }
   ],
   "source": [
    "result4 = np.hstack((a, b))\n",
    "print(result4)\n",
    "print(result4.shape)"
   ]
  },
  {
   "cell_type": "code",
   "execution_count": 128,
   "id": "ab9f3d3a-f151-4a62-a3a8-244465936ac5",
   "metadata": {},
   "outputs": [
    {
     "name": "stdout",
     "output_type": "stream",
     "text": [
      "[[ 1  2  3  4  5  6]\n",
      " [ 7  8  9 10 11 12]\n",
      " [13 14 15 16 17 18]\n",
      " [19 20 21 22 23 24]]\n",
      "(4, 6)\n"
     ]
    }
   ],
   "source": [
    "a = np.arange(1, 25).reshape((4, 6))\n",
    "print(a)\n",
    "print(a.shape)"
   ]
  },
  {
   "cell_type": "code",
   "execution_count": 130,
   "id": "350228c5-1317-455b-8dfd-1d52bb884762",
   "metadata": {},
   "outputs": [
    {
     "name": "stdout",
     "output_type": "stream",
     "text": [
      "[array([[ 1,  2],\n",
      "       [ 7,  8],\n",
      "       [13, 14],\n",
      "       [19, 20]]), array([[ 3,  4],\n",
      "       [ 9, 10],\n",
      "       [15, 16],\n",
      "       [21, 22]]), array([[ 5,  6],\n",
      "       [11, 12],\n",
      "       [17, 18],\n",
      "       [23, 24]])]\n"
     ]
    }
   ],
   "source": [
    "result = np.hsplit(a, 3) # 수평으로 3 그룹으로 분리 -> 분리된 배열 리스트 반환\n",
    "print(result)"
   ]
  },
  {
   "cell_type": "code",
   "execution_count": 132,
   "id": "9e1a1b4d-d12b-47db-adec-46d6d9c35415",
   "metadata": {},
   "outputs": [
    {
     "name": "stdout",
     "output_type": "stream",
     "text": [
      "[array([[ 1,  2,  3,  4,  5,  6],\n",
      "       [ 7,  8,  9, 10, 11, 12]]), array([[13, 14, 15, 16, 17, 18],\n",
      "       [19, 20, 21, 22, 23, 24]])]\n"
     ]
    }
   ],
   "source": [
    "result2 = np.vsplit(a, 2) # 수직으로 2 그룹으로 분리 -> 분리된 배열 리스트 반환\n",
    "print(result2)"
   ]
  },
  {
   "cell_type": "code",
   "execution_count": null,
   "id": "f7c00dbf-81c8-4c55-928b-4acb18bc7bc1",
   "metadata": {},
   "outputs": [],
   "source": []
  }
 ],
 "metadata": {
  "kernelspec": {
   "display_name": "Python 3 (ipykernel)",
   "language": "python",
   "name": "python3"
  },
  "language_info": {
   "codemirror_mode": {
    "name": "ipython",
    "version": 3
   },
   "file_extension": ".py",
   "mimetype": "text/x-python",
   "name": "python",
   "nbconvert_exporter": "python",
   "pygments_lexer": "ipython3",
   "version": "3.12.4"
  }
 },
 "nbformat": 4,
 "nbformat_minor": 5
}
