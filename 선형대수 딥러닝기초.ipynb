{
 "cells": [
  {
   "cell_type": "code",
   "execution_count": 2,
   "id": "3f9918e0-2adb-4e54-ba6f-7e3f2aef43dd",
   "metadata": {},
   "outputs": [
    {
     "name": "stdout",
     "output_type": "stream",
     "text": [
      "[1 2 3]\n"
     ]
    }
   ],
   "source": [
    "# 백터\n",
    "import numpy as np\n",
    "a=np.array([1,2,3]) # 1차탠서 \n",
    "print(a)"
   ]
  },
  {
   "cell_type": "code",
   "execution_count": 4,
   "id": "f62977ae-c7d4-46e6-b0d7-caec36a08b39",
   "metadata": {},
   "outputs": [
    {
     "name": "stdout",
     "output_type": "stream",
     "text": [
      "32\n"
     ]
    }
   ],
   "source": [
    "# 백터 내적\n",
    "u=np.array([1,2,3])\n",
    "v = np.array([4, 5, 6])\n",
    "print(np.dot(u,v))"
   ]
  },
  {
   "cell_type": "code",
   "execution_count": 6,
   "id": "b9df5902-b8a2-4464-8b71-6458fb907367",
   "metadata": {},
   "outputs": [
    {
     "name": "stdout",
     "output_type": "stream",
     "text": [
      "[-3  6 -3]\n"
     ]
    }
   ],
   "source": [
    "#백터 외적\n",
    "u=np.array([1,2,3])\n",
    "v = np.array([4, 5, 6])\n",
    "print(np.cross(u,v))"
   ]
  },
  {
   "cell_type": "code",
   "execution_count": 12,
   "id": "e5bc7093-1109-4042-b2e4-2889d9ae0522",
   "metadata": {},
   "outputs": [
    {
     "name": "stdout",
     "output_type": "stream",
     "text": [
      "6.0\n"
     ]
    }
   ],
   "source": [
    "norm=np.array([1,2,3])\n",
    "L1_norm=np.linalg.norm(norm,ord=1)\n",
    "print(L1_norm)"
   ]
  },
  {
   "cell_type": "code",
   "execution_count": 14,
   "id": "2f8da889-1c63-4a2c-bc2a-42133667bd03",
   "metadata": {},
   "outputs": [
    {
     "name": "stdout",
     "output_type": "stream",
     "text": [
      "3.7416573867739413\n"
     ]
    }
   ],
   "source": [
    "L2_norm = np.linalg.norm(norm, ord=2)\n",
    "print(L2_norm)"
   ]
  },
  {
   "cell_type": "code",
   "execution_count": 16,
   "id": "4d6f088a-0807-4e49-b0f8-b1f4d57c370a",
   "metadata": {},
   "outputs": [
    {
     "name": "stdout",
     "output_type": "stream",
     "text": [
      "[[1 2 3]\n",
      " [4 5 6]]\n"
     ]
    }
   ],
   "source": [
    "A = np.array([\n",
    "    [1, 2, 3], \n",
    "    [4, 5, 6]])\n",
    "print(A)"
   ]
  },
  {
   "cell_type": "code",
   "execution_count": 18,
   "id": "a27bbec0-cab3-4bf0-b09d-249343e61b44",
   "metadata": {},
   "outputs": [
    {
     "name": "stdout",
     "output_type": "stream",
     "text": [
      "A=\n",
      " [[1 2 3]\n",
      " [4 5 6]]\n",
      "B=\n",
      " [[1 2 3]\n",
      " [4 5 6]]\n",
      "C=\n",
      " [[ 1  4  9]\n",
      " [16 25 36]]\n"
     ]
    }
   ],
   "source": [
    "#행렬곱\n",
    "# define first matrix\n",
    "A = np.array([\n",
    "    [1, 2, 3], \n",
    "    [4, 5, 6]])\n",
    "print(\"A=\\n\", A)\n",
    "\n",
    "# define second matrix\n",
    "B = np.array([\n",
    "    [1, 2, 3], \n",
    "    [4, 5, 6]]) \n",
    "print(\"B=\\n\", B)\n",
    "\n",
    "# multiply matrices \n",
    "C = A * B\n",
    "print(\"C=\\n\", C)"
   ]
  },
  {
   "cell_type": "code",
   "execution_count": 20,
   "id": "d5dd4c9d-a396-4dd0-a486-d3a66af04794",
   "metadata": {},
   "outputs": [
    {
     "name": "stdout",
     "output_type": "stream",
     "text": [
      "A=\n",
      " [[1 2]\n",
      " [3 4]\n",
      " [5 6]]\n",
      "B=\n",
      " [[1 2]\n",
      " [3 4]]\n",
      "C=\n",
      " [[ 7 10]\n",
      " [15 22]\n",
      " [23 34]]\n",
      "D=\n",
      " [[ 7 10]\n",
      " [15 22]\n",
      " [23 34]]\n"
     ]
    }
   ],
   "source": [
    "#행렬 내적\n",
    "# define first matrix\n",
    "A = np.array([[1, 2], [3, 4], [5, 6]])\n",
    "print(\"A=\\n\", A)\n",
    "\n",
    "# define second matrix\n",
    "B = np.array([[1, 2], [3, 4]]) \n",
    "print(\"B=\\n\", B)\n",
    "\n",
    "# dot product \n",
    "C = np.dot(A,B)\n",
    "print(\"C=\\n\", C)\n",
    "\n",
    "# dot product with @\n",
    "D = A @ B\n",
    "print(\"D=\\n\", D)"
   ]
  },
  {
   "cell_type": "code",
   "execution_count": 22,
   "id": "9b6680ed-f23a-4753-8491-a9803363885f",
   "metadata": {},
   "outputs": [
    {
     "name": "stdout",
     "output_type": "stream",
     "text": [
      "A=\n",
      " [[1 2]\n",
      " [3 4]\n",
      " [5 6]]\n",
      "B=\n",
      " [0.5 0.5]\n",
      "C=\n",
      " [1.5 3.5 5.5]\n"
     ]
    }
   ],
   "source": [
    "#행렬-백터간의 내적\n",
    "# define matrix\n",
    "A = np.array([\n",
    "    [1, 2], \n",
    "    [3, 4], \n",
    "    [5, 6]])\n",
    "print(\"A=\\n\", A)\n",
    "\n",
    "# define vector\n",
    "B = np.array(\n",
    "    [0.5, 0.5]) \n",
    "print(\"B=\\n\", B)\n",
    "\n",
    "# dot product with @\n",
    "C = A @ B\n",
    "print(\"C=\\n\", C)"
   ]
  },
  {
   "cell_type": "code",
   "execution_count": 24,
   "id": "1991da09-65be-4825-a893-f1b8d2096184",
   "metadata": {},
   "outputs": [
    {
     "name": "stdout",
     "output_type": "stream",
     "text": [
      "A = \n",
      " [[1 2]\n",
      " [3 4]\n",
      " [5 6]]\n",
      "C = \n",
      " [[1 3 5]\n",
      " [2 4 6]]\n"
     ]
    }
   ],
   "source": [
    "#전치\n",
    "# define matrix\n",
    "A = np.array([\n",
    "    [1, 2], \n",
    "    [3, 4], \n",
    "    [5, 6]])\n",
    "print(\"A = \\n\", A)\n",
    "# calculate transpose \n",
    "C = A.T\n",
    "print(\"C = \\n\", C)"
   ]
  },
  {
   "cell_type": "code",
   "execution_count": 26,
   "id": "1eff2e00-9a64-4406-a2f5-635b256c312e",
   "metadata": {},
   "outputs": [
    {
     "name": "stdout",
     "output_type": "stream",
     "text": [
      "A = \n",
      " [[1. 2.]\n",
      " [3. 4.]]\n",
      "B = \n",
      " [[-2.   1. ]\n",
      " [ 1.5 -0.5]]\n",
      "I =\n",
      " [[1.00000000e+00 1.11022302e-16]\n",
      " [0.00000000e+00 1.00000000e+00]]\n"
     ]
    }
   ],
   "source": [
    "#역\n",
    "# define matrix\n",
    "A = np.array([ \n",
    "    [1.0, 2.0], \n",
    "    [3.0, 4.0]]) \n",
    "print(\"A = \\n\", A)\n",
    "# invert matrix\n",
    "B = np.linalg.inv(A) \n",
    "\n",
    "print(\"B = \\n\", B)\n",
    "# multiply A and B \n",
    "I = np.dot(A, B) \n",
    "\n",
    "print(\"I =\\n\", I)"
   ]
  },
  {
   "cell_type": "code",
   "execution_count": 28,
   "id": "5984d196-aece-4846-a76e-edf2cb2b8559",
   "metadata": {},
   "outputs": [
    {
     "name": "stdout",
     "output_type": "stream",
     "text": [
      "A = \n",
      " [[1. 2. 3.]\n",
      " [3. 4. 5.]\n",
      " [5. 6. 7.]]\n",
      "B = \n",
      " [[-1.18515780e+15  2.37031559e+15 -1.18515780e+15]\n",
      " [ 2.37031559e+15 -4.74063119e+15  2.37031559e+15]\n",
      " [-1.18515780e+15  2.37031559e+15 -1.18515780e+15]]\n"
     ]
    }
   ],
   "source": [
    "# define matrix\n",
    "A = np.array([ \n",
    "    [1.0, 2.0, 3.0], \n",
    "    [3.0, 4.0, 5.0], \n",
    "    [5.0, 6.0, 7.0]]) \n",
    "print(\"A = \\n\", A)\n",
    "# invert matrix\n",
    "B = np.linalg.inv(A) \n",
    "\n",
    "print(\"B = \\n\", B)"
   ]
  },
  {
   "cell_type": "code",
   "execution_count": 30,
   "id": "21702898-d48c-4754-a6cf-21b4cb849784",
   "metadata": {},
   "outputs": [
    {
     "name": "stdout",
     "output_type": "stream",
     "text": [
      "A =\n",
      " [[1 2 3]\n",
      " [4 5 6]\n",
      " [7 8 9]]\n",
      "tr =  15\n"
     ]
    }
   ],
   "source": [
    "#대각합\n",
    "A = np.array([\n",
    "    [1, 2, 3], \n",
    "    [4, 5, 6], \n",
    "    [7, 8, 9]])\n",
    "print(\"A =\\n\", A)\n",
    "# calculate trace\n",
    "tr = np.trace(A)\n",
    "print(\"tr = \", tr)"
   ]
  },
  {
   "cell_type": "code",
   "execution_count": 32,
   "id": "261a394d-4fb6-4190-b344-51b994d71195",
   "metadata": {},
   "outputs": [
    {
     "name": "stdout",
     "output_type": "stream",
     "text": [
      "A = \n",
      " [[1 0 0 1 0 0]\n",
      " [0 0 2 0 0 1]\n",
      " [0 0 0 2 0 0]]\n",
      "S = \n",
      "   (0, 0)\t1\n",
      "  (0, 3)\t1\n",
      "  (1, 2)\t2\n",
      "  (1, 5)\t1\n",
      "  (2, 3)\t2\n",
      "B = \n",
      " [[1 0 0 1 0 0]\n",
      " [0 0 2 0 0 1]\n",
      " [0 0 0 2 0 0]]\n"
     ]
    }
   ],
   "source": [
    "#희소행렬\n",
    "import numpy as np\n",
    "import scipy.sparse as sp # create dense matrix\n",
    "A = np.array([\n",
    "  [1, 0, 0, 1, 0, 0],\n",
    "  [0, 0, 2, 0, 0, 1],\n",
    "  [0, 0, 0, 2, 0, 0]])\n",
    "print(\"A = \\n\", A)\n",
    "# convert to sparse matrix (CSR:Compressed Sparse Row method) \n",
    "S = sp.csr_matrix(A)\n",
    "print(\"S = \\n\", S)\n",
    "# reconstruct dense matrix\n",
    "B = S.todense()\n",
    "print(\"B = \\n\", B)"
   ]
  },
  {
   "cell_type": "code",
   "execution_count": 34,
   "id": "8ed03ff2-9ce6-4f54-a544-28b8a84ec87a",
   "metadata": {},
   "outputs": [
    {
     "name": "stdout",
     "output_type": "stream",
     "text": [
      "A = \n",
      " [[1 0 0 1 0 0]\n",
      " [0 0 2 0 0 1]\n",
      " [0 0 0 2 0 0]]\n",
      "sparsity =  0.7222222222222222\n"
     ]
    }
   ],
   "source": [
    "A = np.array([\n",
    "  [1, 0, 0, 1, 0, 0],\n",
    "  [0, 0, 2, 0, 0, 1],\n",
    "  [0, 0, 0, 2, 0, 0]])\n",
    "print(\"A = \\n\", A)\n",
    "# calculate sparsity\n",
    "sparsity = 1.0 - np.count_nonzero(A) / A.size \n",
    "print(\"sparsity = \", sparsity)"
   ]
  },
  {
   "cell_type": "code",
   "execution_count": 36,
   "id": "9b3bd6c5-5520-423d-84c7-391bc77a8a03",
   "metadata": {},
   "outputs": [
    {
     "name": "stdout",
     "output_type": "stream",
     "text": [
      "[[3 4]\n",
      " [6 8]]\n"
     ]
    }
   ],
   "source": [
    "#탠서곱\n",
    "import numpy as np\n",
    "# define first vector\n",
    "A = np.array([1,2])\n",
    "# define second vector\n",
    "B = np.array([3,4])\n",
    "# calculate tensor product\n",
    "C = np.tensordot(A, B, axes=0)\n",
    "print(C)"
   ]
  },
  {
   "cell_type": "code",
   "execution_count": 38,
   "id": "9f326be4-80f2-4f53-844d-bfeefc014c83",
   "metadata": {},
   "outputs": [
    {
     "name": "stdout",
     "output_type": "stream",
     "text": [
      "A =\n",
      " [[1 2 3]\n",
      " [4 5 6]\n",
      " [7 8 9]]\n",
      "values =  [ 1.61168440e+01+0.j -1.11684397e+00+0.j -3.38433605e-16+0.j]\n",
      "vectors = \n",
      " [[-0.23197069 -0.78583024  0.40824829]\n",
      " [-0.52532209 -0.08675134 -0.81649658]\n",
      " [-0.8186735   0.61232756  0.40824829]]\n"
     ]
    }
   ],
   "source": [
    "#고유값분해\n",
    "import numpy as np \n",
    "import scipy.linalg as sp \n",
    "\n",
    "# define matrix\n",
    "A = np.array([\n",
    "  [1, 2, 3],\n",
    "  [4, 5, 6],\n",
    "  [7, 8, 9]])\n",
    "print(\"A =\\n\", A)\n",
    "\n",
    "# factorize\n",
    "values, vectors = sp.eig(A)\n",
    "\n",
    "print(\"values = \", values)\n",
    "print(\"vectors = \\n\", vectors)"
   ]
  },
  {
   "cell_type": "code",
   "execution_count": 40,
   "id": "0adef220-de9f-4150-8bbf-0bcb7cbdb010",
   "metadata": {},
   "outputs": [
    {
     "name": "stdout",
     "output_type": "stream",
     "text": [
      "[-0.23197069 -0.52532209 -0.8186735 ]\n",
      "(16.116843969807032+0j)\n",
      "B =\n",
      " [ -3.73863537  -8.46653421 -13.19443305]\n",
      "C =\n",
      " [ -3.73863537+0.j  -8.46653421+0.j -13.19443305+0.j]\n"
     ]
    }
   ],
   "source": [
    "# confirm first eigenvector\n",
    "print(vectors[:, 0]) # 첫번째 고유벡터\n",
    "print(values[0]) # 첫번째 고유값\n",
    "\n",
    "B = A.dot(vectors[:, 0]) \n",
    "print(\"B =\\n\", B)\n",
    "\n",
    "C = values[0] * vectors[:, 0]\n",
    "print(\"C =\\n\", C)"
   ]
  },
  {
   "cell_type": "code",
   "execution_count": 42,
   "id": "a9dc389b-377b-4343-9a0f-2a725ca13b73",
   "metadata": {},
   "outputs": [
    {
     "name": "stdout",
     "output_type": "stream",
     "text": [
      "[[1.+0.j 2.+0.j 3.+0.j]\n",
      " [4.+0.j 5.+0.j 6.+0.j]\n",
      " [7.+0.j 8.+0.j 9.+0.j]]\n"
     ]
    }
   ],
   "source": [
    "Q = vectors\n",
    "# create inverse of eigenvectors matrix\n",
    "R = np.linalg.inv(Q)\n",
    "# create diagonal matrix from eigenvalues \n",
    "L = np.diag(values)\n",
    "# reconstruct the original matrix\n",
    "B = Q.dot(L).dot(R)\n",
    "print(B)"
   ]
  },
  {
   "cell_type": "code",
   "execution_count": 44,
   "id": "2c964706-7852-4c60-b488-18766791664c",
   "metadata": {},
   "outputs": [
    {
     "name": "stdout",
     "output_type": "stream",
     "text": [
      "[1 2 3 4 5 6]\n",
      "3.5\n"
     ]
    }
   ],
   "source": [
    "#기댓값과평균\n",
    "import numpy as np\n",
    "\n",
    "# define vector\n",
    "v = np.array([1,2,3,4,5,6])\n",
    "print(v)\n",
    "\n",
    "# calculate mean\n",
    "result = np.mean(v)\n",
    "print(result)"
   ]
  },
  {
   "cell_type": "code",
   "execution_count": 46,
   "id": "5dcd8433-5432-4f2b-a207-38957e1fa405",
   "metadata": {},
   "outputs": [
    {
     "name": "stdout",
     "output_type": "stream",
     "text": [
      "[[1 2 3 4 5 6]\n",
      " [1 2 3 4 5 6]]\n",
      "col_mean =  [1. 2. 3. 4. 5. 6.]\n",
      "row_mean =  [3.5 3.5]\n"
     ]
    }
   ],
   "source": [
    "# define matrix\n",
    "M = np.array([\n",
    "  [1,2,3,4,5,6],\n",
    "  [1,2,3,4,5,6]])\n",
    "print(M)\n",
    "# column means\n",
    "col_mean = np.mean(M, axis=0) \n",
    "print(\"col_mean = \", col_mean)\n",
    "# row means\n",
    "row_mean = np.mean(M, axis=1) \n",
    "print(\"row_mean = \", row_mean)"
   ]
  },
  {
   "cell_type": "code",
   "execution_count": 48,
   "id": "fb7915b2-082b-493f-b7bb-e8aef1850f15",
   "metadata": {},
   "outputs": [],
   "source": [
    "#분산과 표준편차"
   ]
  },
  {
   "cell_type": "code",
   "execution_count": 50,
   "id": "2b847b48-5a33-41c6-980c-6c637f711365",
   "metadata": {},
   "outputs": [
    {
     "name": "stdout",
     "output_type": "stream",
     "text": [
      "[1 2 3 4 5 6]\n",
      "3.5\n"
     ]
    }
   ],
   "source": [
    "# define vector\n",
    "v = np.array([1,2,3,4,5,6])\n",
    "print(v)\n",
    "# calculate variance\n",
    "result = np.var(v, ddof=1) \n",
    "# ddof: delta degree of freedom (자유도) - 분산 계산 시 나누는 값=n-ddof\n",
    "print(result)"
   ]
  },
  {
   "cell_type": "code",
   "execution_count": 52,
   "id": "fa588ec2-741b-495b-be1d-efcb08763c09",
   "metadata": {},
   "outputs": [
    {
     "name": "stdout",
     "output_type": "stream",
     "text": [
      "[[1 2 3 4 5 6]\n",
      " [1 2 3 4 5 6]]\n",
      "col_var =  [0. 0. 0. 0. 0. 0.]\n",
      "row_var =  [3.5 3.5]\n"
     ]
    }
   ],
   "source": [
    "# define matrix\n",
    "M = np.array([\n",
    "  [1,2,3,4,5,6],\n",
    "  [1,2,3,4,5,6]])\n",
    "print(M)\n",
    "\n",
    "# column variances\n",
    "col_var = np.var(M, ddof=1, axis=0) \n",
    "print(\"col_var = \", col_var)\n",
    "\n",
    "# row variances\n",
    "row_var = np.var(M, ddof=1, axis=1) \n",
    "print(\"row_var = \", row_var)"
   ]
  },
  {
   "cell_type": "code",
   "execution_count": 54,
   "id": "69660bf2-18eb-4f8b-bf5c-94adbfb5f7ba",
   "metadata": {},
   "outputs": [
    {
     "name": "stdout",
     "output_type": "stream",
     "text": [
      "[[1 2 3 4 5 6]\n",
      " [1 2 3 4 5 6]]\n",
      "col_std =  [0. 0. 0. 0. 0. 0.]\n",
      "row_std =  [1.87082869 1.87082869]\n"
     ]
    }
   ],
   "source": [
    "# define matrix\n",
    "M = np.array([\n",
    "  [1,2,3,4,5,6],\n",
    "  [1,2,3,4,5,6]])\n",
    "print(M)\n",
    "# column standard deviations \n",
    "col_std = np.std(M, ddof=1, axis=0) \n",
    "print(\"col_std = \", col_std)\n",
    "\n",
    "# row standard deviations \n",
    "row_std = np.std(M, ddof=1, axis=1) \n",
    "print(\"row_std = \", row_std)"
   ]
  },
  {
   "cell_type": "code",
   "execution_count": 56,
   "id": "6b1f6c8e-d420-446e-a2dc-89cfc3366f9a",
   "metadata": {},
   "outputs": [
    {
     "name": "stdout",
     "output_type": "stream",
     "text": [
      "X =\n",
      " [1 2 3 4 5 6 7 8 9]\n",
      "Y =\n",
      " [9 8 7 6 5 4 3 2 1]\n",
      "CovMat = \n",
      " [[ 7.5 -7.5]\n",
      " [-7.5  7.5]]\n",
      "Cov =  -7.5\n"
     ]
    }
   ],
   "source": [
    "# 공분산과상관관계\n",
    "# define first vector\n",
    "x = np.array([1,2,3,4,5,6,7,8,9]) # 증가\n",
    "print(\"X =\\n\", x)\n",
    "\n",
    "# define second covariance\n",
    "y = np.array([9,8,7,6,5,4,3,2,1]) # 감소\n",
    "print(\"Y =\\n\", y)\n",
    "\n",
    "# calculate covariance\n",
    "CovMat = np.cov(x,y)\n",
    "print(\"CovMat = \\n\", CovMat) # 공분산행렬: C_ij: x_i와 x_j의 공분산, C_ii: x_ii의 분산\n",
    "\n",
    "Cov = np.cov(x,y)[0,1]  # x와 y의 공분산  \n",
    "print(\"Cov = \", Cov) "
   ]
  },
  {
   "cell_type": "code",
   "execution_count": 58,
   "id": "cad3045d-2a6b-4cc7-8387-37188b687c05",
   "metadata": {},
   "outputs": [
    {
     "name": "stdout",
     "output_type": "stream",
     "text": [
      "X =\n",
      " [1 2 3 4 5 6 7 8 9]\n",
      "Y =\n",
      " [9 8 7 6 5 4 3 2 1]\n",
      "CorrMat = \n",
      " [[ 1. -1.]\n",
      " [-1.  1.]]\n",
      "Corr =  -1.0\n"
     ]
    }
   ],
   "source": [
    "#상관계수\n",
    "# define first vector\n",
    "x = np.array([1,2,3,4,5,6,7,8,9]) # 증가\n",
    "print(\"X =\\n\", x)\n",
    "\n",
    "# define second covariance\n",
    "y = np.array([9,8,7,6,5,4,3,2,1]) # 감소\n",
    "print(\"Y =\\n\", y)\n",
    "\n",
    "# calculate correlation\n",
    "corrMat = np.corrcoef(x,y)\n",
    "print(\"CorrMat = \\n\", corrMat) # 상관계수 행렬: C_ij: x_i와 x_j의 상관계수, C_ii: x_ii의 자기상관계수=1\n",
    "\n",
    "corr = np.corrcoef(x,y)[0,1] # x와 y의 상관계수\n",
    "print(\"Corr = \", corr) "
   ]
  },
  {
   "cell_type": "code",
   "execution_count": 60,
   "id": "15af4553-0691-470b-b190-0666ce21616e",
   "metadata": {},
   "outputs": [
    {
     "name": "stdout",
     "output_type": "stream",
     "text": [
      "[[ 1  5  8]\n",
      " [ 3  5 11]\n",
      " [ 2  4  9]\n",
      " [ 3  6 10]\n",
      " [ 1  5 10]]\n",
      "[[ 1  3  2  3  1]\n",
      " [ 5  5  4  6  5]\n",
      " [ 8 11  9 10 10]]\n",
      "[[1.   0.25 0.75]\n",
      " [0.25 0.5  0.25]\n",
      " [0.75 0.25 1.3 ]]\n",
      "[[1.         0.35355339 0.65779351]\n",
      " [0.35355339 1.         0.31008684]\n",
      " [0.65779351 0.31008684 1.        ]]\n"
     ]
    }
   ],
   "source": [
    "#공분산 행렬\n",
    "# define matrix of observations\n",
    "X = np.array([\n",
    "  [1, 5, 8],\n",
    "  [3, 5, 11],\n",
    "  [2, 4, 9],\n",
    "  [3, 6, 10],\n",
    "  [1, 5, 10]])\n",
    "print(X)\n",
    "print(X.T)\n",
    "# calculate covariance matrix \n",
    "Sigma = np.cov(X.T) # 복수의 열이 있을 경우 단일 2D 배열로 호출 가능, 열의 공분산 계산을 위해 전치를 사용해야 함\n",
    "print(Sigma)\n",
    "sigma = np.corrcoef(X.T) # 복수의 열이 있을 경우 단일 2D 배열로 호출 가능, 열의 공분산 계산을 위해 전치를 사용해야 함\n",
    "print(sigma)"
   ]
  },
  {
   "cell_type": "code",
   "execution_count": 62,
   "id": "0ec67e20-0718-47b3-bee3-7c16b70edb8f",
   "metadata": {},
   "outputs": [
    {
     "name": "stdout",
     "output_type": "stream",
     "text": [
      "A =\n",
      " [[1 2]\n",
      " [3 4]\n",
      " [5 6]]\n",
      "M =\n",
      " [3. 4.]\n",
      "C =\n",
      " [[-2. -2.]\n",
      " [ 0.  0.]\n",
      " [ 2.  2.]]\n",
      "C.T =\n",
      " [[-2.  0.  2.]\n",
      " [-2.  0.  2.]]\n",
      "V =\n",
      " [[4. 4.]\n",
      " [4. 4.]]\n",
      "vectors = \n",
      " [[ 0.70710678 -0.70710678]\n",
      " [ 0.70710678  0.70710678]]\n",
      "values =  [8. 0.]\n",
      "P =\n",
      " [[-2.82842712  0.        ]\n",
      " [ 0.          0.        ]\n",
      " [ 2.82842712  0.        ]]\n"
     ]
    }
   ],
   "source": [
    "#주성분 분석\n",
    "# define matrix\n",
    "A = np.array([\n",
    "  [1, 2],\n",
    "  [3, 4],\n",
    "  [5, 6]])\n",
    "print(\"A =\\n\", A)\n",
    "\n",
    "# column means\n",
    "M = np.mean(A, axis=0)\n",
    "print(\"M =\\n\", M)\n",
    "\n",
    "# center columns by subtracting column means \n",
    "C = A - M\n",
    "print(\"C =\\n\", C)\n",
    "print(\"C.T =\\n\", C.T)\n",
    "\n",
    "# calculate covariance matrix of centered matrix \n",
    "V = np.cov(C.T)\n",
    "print(\"V =\\n\", V)\n",
    "\n",
    "# factorize covariance matrix\n",
    "values, vectors = np.linalg.eig(V)\n",
    "print(\"vectors = \\n\", vectors)\n",
    "print(\"values = \", values)\n",
    "\n",
    "# project data\n",
    "P = vectors.T.dot(C.T)\n",
    "print(\"P =\\n\", P.T)"
   ]
  },
  {
   "cell_type": "code",
   "execution_count": 64,
   "id": "bbe70933-e9a5-4c1b-858e-1d641744d53e",
   "metadata": {},
   "outputs": [
    {
     "name": "stdout",
     "output_type": "stream",
     "text": [
      "A =\n",
      " [[1 2]\n",
      " [3 4]\n",
      " [5 6]]\n",
      "P =\n",
      " [[-2.82842712]\n",
      " [ 0.        ]\n",
      " [ 2.82842712]]\n"
     ]
    }
   ],
   "source": [
    "# principal component analysis with scikit-learn\n",
    "import numpy as np\n",
    "import sklearn.decomposition as sk\n",
    "# define matrix\n",
    "A = np.array([\n",
    "  [1, 2],\n",
    "  [3, 4],\n",
    "  [5, 6]])\n",
    "print(\"A =\\n\", A)\n",
    "\n",
    "# create the transform\n",
    "pca = sk.PCA(1) # 1: 유지할 요소 수\n",
    "\n",
    "# fit transform\n",
    "pca.fit(A) # 데이터 A에 적합한 모델 생성\n",
    "\n",
    "# access values and vectors print(pca.components_) print(pca.explained_variance_) # transform data\n",
    "P = pca.transform(A)\n",
    "print(\"P =\\n\", P)\n"
   ]
  },
  {
   "cell_type": "code",
   "execution_count": 66,
   "id": "224cf1dd-a164-4474-98cd-79fac2c0f612",
   "metadata": {},
   "outputs": [
    {
     "name": "stdout",
     "output_type": "stream",
     "text": [
      "data = \n",
      " [[0.05 0.12]\n",
      " [0.18 0.22]\n",
      " [0.31 0.35]\n",
      " [0.42 0.38]\n",
      " [0.5  0.49]]\n",
      "X = \n",
      " [[0.05]\n",
      " [0.18]\n",
      " [0.31]\n",
      " [0.42]\n",
      " [0.5 ]]\n",
      "y =  [0.12 0.22 0.35 0.38 0.49]\n"
     ]
    },
    {
     "data": {
      "image/png": "[encoded data removed]",
      "text/plain": [
       "<Figure size 640x480 with 1 Axes>"
      ]
     },
     "metadata": {},
     "output_type": "display_data"
    }
   ],
   "source": [
    "#선형회귀\n",
    "import numpy as np\n",
    "from matplotlib import pyplot \n",
    "%matplotlib inline \n",
    "\n",
    "# define dataset\n",
    "data = np.array([\n",
    "    [0.05, 0.12], \n",
    "    [0.18, 0.22], \n",
    "    [0.31, 0.35], \n",
    "    [0.42, 0.38], \n",
    "    [0.5, 0.49]])\n",
    "print(\"data = \\n\", data)\n",
    "\n",
    "# split into inputs and outputs\n",
    "X, y = data[:,0], data[:,1] \n",
    "X = X.reshape((len(X), 1)) # 2차원 배열로 만들기\n",
    "\n",
    "print(\"X = \\n\", X)\n",
    "print(\"y = \", y)\n",
    "\n",
    "# scatter plot \n",
    "pyplot.scatter(X, y) # 산포도\n",
    "pyplot.show()"
   ]
  },
  {
   "cell_type": "code",
   "execution_count": null,
   "id": "b25d43a7-2fa4-4ff0-ac7c-a5a06bfd37fc",
   "metadata": {},
   "outputs": [],
   "source": [
    "# linear least squares\n",
    "b = np.linalg.inv(X.T.dot(X)).dot(X.T).dot(y) \n",
    "print(\"b = \", b)\n",
    "\n",
    "# predict using coefficients\n",
    "yhat = X.dot(b)\n",
    "print(\"yhat = \", yhat)\n",
    "\n",
    "# plot data and predictions\n",
    "pyplot.scatter(X, y) \n",
    "pyplot.plot(X, yhat, color='red') # 선 그리기\n",
    "pyplot.show()"
   ]
  }
 ],
 "metadata": {
  "kernelspec": {
   "display_name": "Python 3 (ipykernel)",
   "language": "python",
   "name": "python3"
  },
  "language_info": {
   "codemirror_mode": {
    "name": "ipython",
    "version": 3
   },
   "file_extension": ".py",
   "mimetype": "text/x-python",
   "name": "python",
   "nbconvert_exporter": "python",
   "pygments_lexer": "ipython3",
   "version": "3.12.4"
  }
 },
 "nbformat": 4,
 "nbformat_minor": 5
}
